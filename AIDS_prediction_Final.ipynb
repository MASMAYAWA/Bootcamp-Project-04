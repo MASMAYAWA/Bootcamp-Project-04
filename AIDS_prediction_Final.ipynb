{
 "cells": [
  {
   "cell_type": "markdown",
   "metadata": {},
   "source": [
    "## Dependencies"
   ]
  },
  {
   "cell_type": "code",
   "execution_count": 9,
   "metadata": {},
   "outputs": [],
   "source": [
    "# Import our dependencies\n",
    "from sklearn.model_selection import train_test_split\n",
    "from sklearn.preprocessing import StandardScaler\n",
    "import pandas as pd\n",
    "import seaborn as sns\n",
    "import matplotlib.pyplot as plt\n",
    "import tensorflow as tf\n",
    "import warnings\n",
    "warnings.filterwarnings(\"ignore\")"
   ]
  },
  {
   "cell_type": "markdown",
   "metadata": {},
   "source": [
    "### Connecting to PostgreSQL database"
   ]
  },
  {
   "cell_type": "code",
   "execution_count": 10,
   "metadata": {},
   "outputs": [],
   "source": [
    "from sqlalchemy import create_engine\n",
    "import db_credentials"
   ]
  },
  {
   "cell_type": "code",
   "execution_count": 11,
   "metadata": {},
   "outputs": [],
   "source": [
    "# Using the database credentials\n",
    "db_connection = db_credentials.db_credentials"
   ]
  },
  {
   "cell_type": "code",
   "execution_count": 12,
   "metadata": {},
   "outputs": [
    {
     "name": "stdout",
     "output_type": "stream",
     "text": [
      "Successfully connected to the PostgreSQL database\n"
     ]
    }
   ],
   "source": [
    "# Accessing individual credentials from the dictionary of credentials\n",
    "user = db_connection['user']\n",
    "password = db_connection['password']\n",
    "host = db_connection['host']\n",
    "port = db_connection['port']\n",
    "database = db_connection['database']\n",
    "\n",
    "# Creating connection string\n",
    "connection_str = f'postgresql://{user}:{password}@{host}:{port}/{database}'\n",
    "\n",
    "# SQLAlchemy engine\n",
    "engine = create_engine(connection_str)\n",
    "\n",
    "# Test if the connection is made or not\n",
    "try:\n",
    "    with engine.connect() as connection_str:\n",
    "        print('Successfully connected to the PostgreSQL database')\n",
    "except Exception as ex:\n",
    "    print(f'Sorry failed to connect: {ex}')"
   ]
  },
  {
   "cell_type": "markdown",
   "metadata": {},
   "source": [
    "### Query data from PostgreSQL and create a DataFrame "
   ]
  },
  {
   "cell_type": "code",
   "execution_count": 13,
   "metadata": {},
   "outputs": [
    {
     "data": {
      "text/html": [
       "<div>\n",
       "<style scoped>\n",
       "    .dataframe tbody tr th:only-of-type {\n",
       "        vertical-align: middle;\n",
       "    }\n",
       "\n",
       "    .dataframe tbody tr th {\n",
       "        vertical-align: top;\n",
       "    }\n",
       "\n",
       "    .dataframe thead th {\n",
       "        text-align: right;\n",
       "    }\n",
       "</style>\n",
       "<table border=\"1\" class=\"dataframe\">\n",
       "  <thead>\n",
       "    <tr style=\"text-align: right;\">\n",
       "      <th></th>\n",
       "      <th>ID</th>\n",
       "      <th>treatment</th>\n",
       "      <th>ZDV_only_treatment</th>\n",
       "      <th>off_treatment</th>\n",
       "      <th>time</th>\n",
       "      <th>age</th>\n",
       "      <th>weight</th>\n",
       "      <th>hemophilia</th>\n",
       "      <th>homosexual_activity</th>\n",
       "      <th>drugs</th>\n",
       "      <th>...</th>\n",
       "      <th>ZDV_last_30days</th>\n",
       "      <th>prior_ART_length</th>\n",
       "      <th>ART_history</th>\n",
       "      <th>ART_history_stratified</th>\n",
       "      <th>symptom</th>\n",
       "      <th>cd4_base</th>\n",
       "      <th>cd4_20wks</th>\n",
       "      <th>cd8_base</th>\n",
       "      <th>cd8_20wks</th>\n",
       "      <th>infected</th>\n",
       "    </tr>\n",
       "  </thead>\n",
       "  <tbody>\n",
       "    <tr>\n",
       "      <th>0</th>\n",
       "      <td>0</td>\n",
       "      <td>2</td>\n",
       "      <td>1</td>\n",
       "      <td>0</td>\n",
       "      <td>948</td>\n",
       "      <td>48</td>\n",
       "      <td>89.8128</td>\n",
       "      <td>0</td>\n",
       "      <td>0</td>\n",
       "      <td>0</td>\n",
       "      <td>...</td>\n",
       "      <td>0</td>\n",
       "      <td>0</td>\n",
       "      <td>0</td>\n",
       "      <td>1</td>\n",
       "      <td>0</td>\n",
       "      <td>422</td>\n",
       "      <td>477</td>\n",
       "      <td>566</td>\n",
       "      <td>324</td>\n",
       "      <td>0</td>\n",
       "    </tr>\n",
       "    <tr>\n",
       "      <th>1</th>\n",
       "      <td>1</td>\n",
       "      <td>3</td>\n",
       "      <td>1</td>\n",
       "      <td>0</td>\n",
       "      <td>1002</td>\n",
       "      <td>61</td>\n",
       "      <td>49.4424</td>\n",
       "      <td>0</td>\n",
       "      <td>0</td>\n",
       "      <td>0</td>\n",
       "      <td>...</td>\n",
       "      <td>1</td>\n",
       "      <td>895</td>\n",
       "      <td>1</td>\n",
       "      <td>3</td>\n",
       "      <td>0</td>\n",
       "      <td>162</td>\n",
       "      <td>218</td>\n",
       "      <td>392</td>\n",
       "      <td>564</td>\n",
       "      <td>1</td>\n",
       "    </tr>\n",
       "    <tr>\n",
       "      <th>2</th>\n",
       "      <td>2</td>\n",
       "      <td>3</td>\n",
       "      <td>1</td>\n",
       "      <td>1</td>\n",
       "      <td>961</td>\n",
       "      <td>45</td>\n",
       "      <td>88.4520</td>\n",
       "      <td>0</td>\n",
       "      <td>1</td>\n",
       "      <td>1</td>\n",
       "      <td>...</td>\n",
       "      <td>1</td>\n",
       "      <td>707</td>\n",
       "      <td>1</td>\n",
       "      <td>3</td>\n",
       "      <td>0</td>\n",
       "      <td>326</td>\n",
       "      <td>274</td>\n",
       "      <td>2063</td>\n",
       "      <td>1893</td>\n",
       "      <td>0</td>\n",
       "    </tr>\n",
       "    <tr>\n",
       "      <th>3</th>\n",
       "      <td>3</td>\n",
       "      <td>3</td>\n",
       "      <td>1</td>\n",
       "      <td>0</td>\n",
       "      <td>1166</td>\n",
       "      <td>47</td>\n",
       "      <td>85.2768</td>\n",
       "      <td>0</td>\n",
       "      <td>1</td>\n",
       "      <td>0</td>\n",
       "      <td>...</td>\n",
       "      <td>1</td>\n",
       "      <td>1399</td>\n",
       "      <td>1</td>\n",
       "      <td>3</td>\n",
       "      <td>0</td>\n",
       "      <td>287</td>\n",
       "      <td>394</td>\n",
       "      <td>1590</td>\n",
       "      <td>966</td>\n",
       "      <td>0</td>\n",
       "    </tr>\n",
       "    <tr>\n",
       "      <th>4</th>\n",
       "      <td>4</td>\n",
       "      <td>0</td>\n",
       "      <td>0</td>\n",
       "      <td>0</td>\n",
       "      <td>1090</td>\n",
       "      <td>43</td>\n",
       "      <td>66.6792</td>\n",
       "      <td>0</td>\n",
       "      <td>1</td>\n",
       "      <td>0</td>\n",
       "      <td>...</td>\n",
       "      <td>1</td>\n",
       "      <td>1352</td>\n",
       "      <td>1</td>\n",
       "      <td>3</td>\n",
       "      <td>0</td>\n",
       "      <td>504</td>\n",
       "      <td>353</td>\n",
       "      <td>870</td>\n",
       "      <td>782</td>\n",
       "      <td>0</td>\n",
       "    </tr>\n",
       "  </tbody>\n",
       "</table>\n",
       "<p>5 rows × 24 columns</p>\n",
       "</div>"
      ],
      "text/plain": [
       "   ID  treatment  ZDV_only_treatment  off_treatment  time  age   weight  \\\n",
       "0   0          2                   1              0   948   48  89.8128   \n",
       "1   1          3                   1              0  1002   61  49.4424   \n",
       "2   2          3                   1              1   961   45  88.4520   \n",
       "3   3          3                   1              0  1166   47  85.2768   \n",
       "4   4          0                   0              0  1090   43  66.6792   \n",
       "\n",
       "   hemophilia  homosexual_activity  drugs  ...  ZDV_last_30days  \\\n",
       "0           0                    0      0  ...                0   \n",
       "1           0                    0      0  ...                1   \n",
       "2           0                    1      1  ...                1   \n",
       "3           0                    1      0  ...                1   \n",
       "4           0                    1      0  ...                1   \n",
       "\n",
       "   prior_ART_length  ART_history  ART_history_stratified  symptom  cd4_base  \\\n",
       "0                 0            0                       1        0       422   \n",
       "1               895            1                       3        0       162   \n",
       "2               707            1                       3        0       326   \n",
       "3              1399            1                       3        0       287   \n",
       "4              1352            1                       3        0       504   \n",
       "\n",
       "   cd4_20wks  cd8_base  cd8_20wks  infected  \n",
       "0        477       566        324         0  \n",
       "1        218       392        564         1  \n",
       "2        274      2063       1893         0  \n",
       "3        394      1590        966         0  \n",
       "4        353       870        782         0  \n",
       "\n",
       "[5 rows x 24 columns]"
      ]
     },
     "execution_count": 13,
     "metadata": {},
     "output_type": "execute_result"
    }
   ],
   "source": [
    "# Establish a connection to the PostgreSQL database (This connection allows us to execute SQL querie)\n",
    "conn = engine.connect()\n",
    "\n",
    "# Execute SQL query\n",
    "result = conn.execute('SELECT * FROM \"AIDs_Classifications\"')\n",
    "        \n",
    "# Fetch all rows from the result set\n",
    "rows = result.fetchall()\n",
    "        \n",
    "# Convert result set to DataFrame\n",
    "AIDS_df = pd.DataFrame(rows, columns=result.keys())\n",
    "        \n",
    "# Print the DataFrame\n",
    "AIDS_df.head()"
   ]
  },
  {
   "cell_type": "markdown",
   "metadata": {},
   "source": [
    "## Preprocessing"
   ]
  },
  {
   "cell_type": "code",
   "execution_count": 14,
   "metadata": {},
   "outputs": [],
   "source": [
    "# This can be used for getting the data directly from the CSV located in the Resources folder\n",
    "# AIDS_df = pd.read_csv('Resources/AIDS_Classifications_cleaned.csv')"
   ]
  },
  {
   "cell_type": "code",
   "execution_count": 15,
   "metadata": {},
   "outputs": [
    {
     "data": {
      "text/html": [
       "<div>\n",
       "<style scoped>\n",
       "    .dataframe tbody tr th:only-of-type {\n",
       "        vertical-align: middle;\n",
       "    }\n",
       "\n",
       "    .dataframe tbody tr th {\n",
       "        vertical-align: top;\n",
       "    }\n",
       "\n",
       "    .dataframe thead th {\n",
       "        text-align: right;\n",
       "    }\n",
       "</style>\n",
       "<table border=\"1\" class=\"dataframe\">\n",
       "  <thead>\n",
       "    <tr style=\"text-align: right;\">\n",
       "      <th></th>\n",
       "      <th>ID</th>\n",
       "      <th>treatment</th>\n",
       "      <th>ZDV_only_treatment</th>\n",
       "      <th>off_treatment</th>\n",
       "      <th>time</th>\n",
       "      <th>age</th>\n",
       "      <th>weight</th>\n",
       "      <th>hemophilia</th>\n",
       "      <th>homosexual_activity</th>\n",
       "      <th>drugs</th>\n",
       "      <th>...</th>\n",
       "      <th>ZDV_last_30days</th>\n",
       "      <th>prior_ART_length</th>\n",
       "      <th>ART_history</th>\n",
       "      <th>ART_history_stratified</th>\n",
       "      <th>symptom</th>\n",
       "      <th>cd4_base</th>\n",
       "      <th>cd4_20wks</th>\n",
       "      <th>cd8_base</th>\n",
       "      <th>cd8_20wks</th>\n",
       "      <th>infected</th>\n",
       "    </tr>\n",
       "  </thead>\n",
       "  <tbody>\n",
       "    <tr>\n",
       "      <th>0</th>\n",
       "      <td>0</td>\n",
       "      <td>2</td>\n",
       "      <td>1</td>\n",
       "      <td>0</td>\n",
       "      <td>948</td>\n",
       "      <td>48</td>\n",
       "      <td>89.8128</td>\n",
       "      <td>0</td>\n",
       "      <td>0</td>\n",
       "      <td>0</td>\n",
       "      <td>...</td>\n",
       "      <td>0</td>\n",
       "      <td>0</td>\n",
       "      <td>0</td>\n",
       "      <td>1</td>\n",
       "      <td>0</td>\n",
       "      <td>422</td>\n",
       "      <td>477</td>\n",
       "      <td>566</td>\n",
       "      <td>324</td>\n",
       "      <td>0</td>\n",
       "    </tr>\n",
       "    <tr>\n",
       "      <th>1</th>\n",
       "      <td>1</td>\n",
       "      <td>3</td>\n",
       "      <td>1</td>\n",
       "      <td>0</td>\n",
       "      <td>1002</td>\n",
       "      <td>61</td>\n",
       "      <td>49.4424</td>\n",
       "      <td>0</td>\n",
       "      <td>0</td>\n",
       "      <td>0</td>\n",
       "      <td>...</td>\n",
       "      <td>1</td>\n",
       "      <td>895</td>\n",
       "      <td>1</td>\n",
       "      <td>3</td>\n",
       "      <td>0</td>\n",
       "      <td>162</td>\n",
       "      <td>218</td>\n",
       "      <td>392</td>\n",
       "      <td>564</td>\n",
       "      <td>1</td>\n",
       "    </tr>\n",
       "    <tr>\n",
       "      <th>2</th>\n",
       "      <td>2</td>\n",
       "      <td>3</td>\n",
       "      <td>1</td>\n",
       "      <td>1</td>\n",
       "      <td>961</td>\n",
       "      <td>45</td>\n",
       "      <td>88.4520</td>\n",
       "      <td>0</td>\n",
       "      <td>1</td>\n",
       "      <td>1</td>\n",
       "      <td>...</td>\n",
       "      <td>1</td>\n",
       "      <td>707</td>\n",
       "      <td>1</td>\n",
       "      <td>3</td>\n",
       "      <td>0</td>\n",
       "      <td>326</td>\n",
       "      <td>274</td>\n",
       "      <td>2063</td>\n",
       "      <td>1893</td>\n",
       "      <td>0</td>\n",
       "    </tr>\n",
       "    <tr>\n",
       "      <th>3</th>\n",
       "      <td>3</td>\n",
       "      <td>3</td>\n",
       "      <td>1</td>\n",
       "      <td>0</td>\n",
       "      <td>1166</td>\n",
       "      <td>47</td>\n",
       "      <td>85.2768</td>\n",
       "      <td>0</td>\n",
       "      <td>1</td>\n",
       "      <td>0</td>\n",
       "      <td>...</td>\n",
       "      <td>1</td>\n",
       "      <td>1399</td>\n",
       "      <td>1</td>\n",
       "      <td>3</td>\n",
       "      <td>0</td>\n",
       "      <td>287</td>\n",
       "      <td>394</td>\n",
       "      <td>1590</td>\n",
       "      <td>966</td>\n",
       "      <td>0</td>\n",
       "    </tr>\n",
       "    <tr>\n",
       "      <th>4</th>\n",
       "      <td>4</td>\n",
       "      <td>0</td>\n",
       "      <td>0</td>\n",
       "      <td>0</td>\n",
       "      <td>1090</td>\n",
       "      <td>43</td>\n",
       "      <td>66.6792</td>\n",
       "      <td>0</td>\n",
       "      <td>1</td>\n",
       "      <td>0</td>\n",
       "      <td>...</td>\n",
       "      <td>1</td>\n",
       "      <td>1352</td>\n",
       "      <td>1</td>\n",
       "      <td>3</td>\n",
       "      <td>0</td>\n",
       "      <td>504</td>\n",
       "      <td>353</td>\n",
       "      <td>870</td>\n",
       "      <td>782</td>\n",
       "      <td>0</td>\n",
       "    </tr>\n",
       "  </tbody>\n",
       "</table>\n",
       "<p>5 rows × 24 columns</p>\n",
       "</div>"
      ],
      "text/plain": [
       "   ID  treatment  ZDV_only_treatment  off_treatment  time  age   weight  \\\n",
       "0   0          2                   1              0   948   48  89.8128   \n",
       "1   1          3                   1              0  1002   61  49.4424   \n",
       "2   2          3                   1              1   961   45  88.4520   \n",
       "3   3          3                   1              0  1166   47  85.2768   \n",
       "4   4          0                   0              0  1090   43  66.6792   \n",
       "\n",
       "   hemophilia  homosexual_activity  drugs  ...  ZDV_last_30days  \\\n",
       "0           0                    0      0  ...                0   \n",
       "1           0                    0      0  ...                1   \n",
       "2           0                    1      1  ...                1   \n",
       "3           0                    1      0  ...                1   \n",
       "4           0                    1      0  ...                1   \n",
       "\n",
       "   prior_ART_length  ART_history  ART_history_stratified  symptom  cd4_base  \\\n",
       "0                 0            0                       1        0       422   \n",
       "1               895            1                       3        0       162   \n",
       "2               707            1                       3        0       326   \n",
       "3              1399            1                       3        0       287   \n",
       "4              1352            1                       3        0       504   \n",
       "\n",
       "   cd4_20wks  cd8_base  cd8_20wks  infected  \n",
       "0        477       566        324         0  \n",
       "1        218       392        564         1  \n",
       "2        274      2063       1893         0  \n",
       "3        394      1590        966         0  \n",
       "4        353       870        782         0  \n",
       "\n",
       "[5 rows x 24 columns]"
      ]
     },
     "execution_count": 15,
     "metadata": {},
     "output_type": "execute_result"
    }
   ],
   "source": [
    "# Drop the non-benificial \"ID\" column\n",
    "# AIDS_df = AIDS_df.drop(['ID', 'cd8_base', 'cd8_20wks'], axis = 1)\n",
    "AIDS_df.head()"
   ]
  },
  {
   "cell_type": "code",
   "execution_count": 16,
   "metadata": {},
   "outputs": [
    {
     "data": {
      "text/plain": [
       "ID                        2139\n",
       "treatment                    4\n",
       "ZDV_only_treatment           2\n",
       "off_treatment                2\n",
       "time                       713\n",
       "age                         59\n",
       "weight                     667\n",
       "hemophilia                   2\n",
       "homosexual_activity          2\n",
       "drugs                        2\n",
       "race                         2\n",
       "gender                       2\n",
       "karnofsky_score              4\n",
       "therapy_prior                2\n",
       "ZDV_last_30days              2\n",
       "prior_ART_length           813\n",
       "ART_history                  2\n",
       "ART_history_stratified       3\n",
       "symptom                      2\n",
       "cd4_base                   484\n",
       "cd4_20wks                  570\n",
       "cd8_base                  1090\n",
       "cd8_20wks                 1050\n",
       "infected                     2\n",
       "dtype: int64"
      ]
     },
     "execution_count": 16,
     "metadata": {},
     "output_type": "execute_result"
    }
   ],
   "source": [
    "# Determine the number of unique values in each column.\n",
    "AIDS_df.nunique()"
   ]
  },
  {
   "cell_type": "code",
   "execution_count": 17,
   "metadata": {},
   "outputs": [
    {
     "name": "stdout",
     "output_type": "stream",
     "text": [
      "<class 'pandas.core.frame.DataFrame'>\n",
      "RangeIndex: 2139 entries, 0 to 2138\n",
      "Data columns (total 24 columns):\n",
      " #   Column                  Non-Null Count  Dtype  \n",
      "---  ------                  --------------  -----  \n",
      " 0   ID                      2139 non-null   int64  \n",
      " 1   treatment               2139 non-null   int64  \n",
      " 2   ZDV_only_treatment      2139 non-null   int64  \n",
      " 3   off_treatment           2139 non-null   int64  \n",
      " 4   time                    2139 non-null   int64  \n",
      " 5   age                     2139 non-null   int64  \n",
      " 6   weight                  2139 non-null   float64\n",
      " 7   hemophilia              2139 non-null   int64  \n",
      " 8   homosexual_activity     2139 non-null   int64  \n",
      " 9   drugs                   2139 non-null   int64  \n",
      " 10  race                    2139 non-null   int64  \n",
      " 11  gender                  2139 non-null   int64  \n",
      " 12  karnofsky_score         2139 non-null   int64  \n",
      " 13  therapy_prior           2139 non-null   int64  \n",
      " 14  ZDV_last_30days         2139 non-null   int64  \n",
      " 15  prior_ART_length        2139 non-null   int64  \n",
      " 16  ART_history             2139 non-null   int64  \n",
      " 17  ART_history_stratified  2139 non-null   int64  \n",
      " 18  symptom                 2139 non-null   int64  \n",
      " 19  cd4_base                2139 non-null   int64  \n",
      " 20  cd4_20wks               2139 non-null   int64  \n",
      " 21  cd8_base                2139 non-null   int64  \n",
      " 22  cd8_20wks               2139 non-null   int64  \n",
      " 23  infected                2139 non-null   int64  \n",
      "dtypes: float64(1), int64(23)\n",
      "memory usage: 401.2 KB\n",
      "None\n"
     ]
    }
   ],
   "source": [
    "# Print DataFrame structure\n",
    "print(AIDS_df.info())"
   ]
  },
  {
   "cell_type": "code",
   "execution_count": 18,
   "metadata": {},
   "outputs": [
    {
     "data": {
      "text/plain": [
       "infected\n",
       "0    1618\n",
       "1     521\n",
       "Name: count, dtype: int64"
      ]
     },
     "execution_count": 18,
     "metadata": {},
     "output_type": "execute_result"
    }
   ],
   "source": [
    "# There are significantly more '0's than '1's\n",
    "infected_count = AIDS_df[\"infected\"].value_counts()\n",
    "infected_count"
   ]
  },
  {
   "cell_type": "markdown",
   "metadata": {},
   "source": [
    "### Handling class imbalance\n",
    "The above code indicates that our classes are very imbalanced. Handling class imbalance is crucial in machine learning when one class has significantly more samples than the other. \n",
    "To handle this issue we have used the following strategies:\n",
    "1.\tAlgorithmic techniques: adjust the class weights in the model to penalize misclassifications of the minority class more than the majority class. This can be achieved by setting the class_weight parameter to “balanced” in some models such as Logistic Regression and SVM \n",
    "\n",
    "2.\tUsing ensemble methods like Random Forests which inherently handle class imbalance by combining multiple weak learners.\n",
    "3.\tEvaluation Metrics: Use appropriate evaluation metrics that are less sensitive to class imbalance, such as precision, and recall rather than accuracy.\n",
    "\n"
   ]
  },
  {
   "cell_type": "code",
   "execution_count": 19,
   "metadata": {},
   "outputs": [],
   "source": [
    "# Split our preprocessed data into our features and target arrays\n",
    "y = AIDS_df['infected'].ravel()\n",
    "x = AIDS_df.drop(columns='infected')\n",
    "\n",
    "# Define the train-test split size\n",
    "test_size = 0.2\n",
    "# Split the preprocessed data into a training and testing dataset\n",
    "X_train, X_test, y_train, y_test = train_test_split(x, y, test_size=test_size, random_state=1)\n"
   ]
  },
  {
   "cell_type": "code",
   "execution_count": 20,
   "metadata": {},
   "outputs": [
    {
     "name": "stdout",
     "output_type": "stream",
     "text": [
      "Feature=> train: (1711, 23) - test: (428, 23)\n",
      "Label=> train: (1711,) - test: (428,)\n"
     ]
    }
   ],
   "source": [
    "# print the number and shape of train and test data\n",
    "print(f\"Feature=> train: {X_train.shape} - test: {X_test.shape}\")\n",
    "print(f\"Label=> train: {y_train.shape} - test: {y_test.shape}\")"
   ]
  },
  {
   "cell_type": "code",
   "execution_count": 21,
   "metadata": {},
   "outputs": [],
   "source": [
    "# Create a StandardScaler instance\n",
    "scaler = StandardScaler()\n",
    "\n",
    "# Fit the StandardScaler\n",
    "X_scaler = scaler.fit(X_train)\n",
    "\n",
    "# Scale the training and testing data\n",
    "X_train_scaled = X_scaler.transform(X_train)\n",
    "X_test_scaled = X_scaler.transform(X_test)"
   ]
  },
  {
   "cell_type": "markdown",
   "metadata": {},
   "source": [
    "## Model 1: Logistic Regression + Model 2: K-NearestNeighbors (KNN) + Model 3: Support Vector Machine (SVM) "
   ]
  },
  {
   "cell_type": "code",
   "execution_count": 22,
   "metadata": {
    "scrolled": false
   },
   "outputs": [
    {
     "name": "stdout",
     "output_type": "stream",
     "text": [
      "Train-Test Split Ratio: 0.7\n",
      "---------------------------------------\n",
      "Logistic Regression:\n",
      "Accuracy (Train): 0.8623914495657983\n",
      "Accuracy (Test): 0.8489096573208723\n",
      "Precision (Train): 0.8093943575523566\n",
      "Recall (Train): 0.8440389176630041\n",
      "F1-score (Train): 0.8237422325458046\n",
      "Support (Train): None\n",
      "Precision (Test): 0.792445431181148\n",
      "Recall (Test): 0.8196818613485279\n",
      "F1-score (Test): 0.8041174527782584\n",
      "Support (Test): None\n",
      "Classification Report:\n",
      "              precision    recall  f1-score   support\n",
      "\n",
      "not infected       0.92      0.88      0.90       486\n",
      "    infected       0.66      0.76      0.71       156\n",
      "\n",
      "    accuracy                           0.85       642\n",
      "   macro avg       0.79      0.82      0.80       642\n",
      "weighted avg       0.86      0.85      0.85       642\n",
      "\n",
      "---------------------------------------\n",
      "K-Nearest Neighbors:\n",
      "Accuracy (Train): 0.8804275217100869\n",
      "Accuracy (Test): 0.7975077881619937\n",
      "Precision (Train): 0.8673642568281457\n",
      "Recall (Train): 0.7928493634735466\n",
      "F1-score (Train): 0.8207021283856346\n",
      "Support (Train): None\n",
      "Precision (Test): 0.7334541062801933\n",
      "Recall (Test): 0.6529756251978474\n",
      "F1-score (Test): 0.6731519338314771\n",
      "Support (Test): None\n",
      "Classification Report:\n",
      "              precision    recall  f1-score   support\n",
      "\n",
      "not infected       0.82      0.93      0.87       486\n",
      "    infected       0.64      0.37      0.47       156\n",
      "\n",
      "    accuracy                           0.80       642\n",
      "   macro avg       0.73      0.65      0.67       642\n",
      "weighted avg       0.78      0.80      0.78       642\n",
      "\n",
      "---------------------------------------\n",
      "Support Vector Machine:\n",
      "Accuracy (Train): 0.8617234468937875\n",
      "Accuracy (Test): 0.8535825545171339\n",
      "Precision (Train): 0.8085522920787822\n",
      "Recall (Train): 0.8473098891524276\n",
      "F1-score (Train): 0.8241467075637929\n",
      "Support (Train): None\n",
      "Precision (Test): 0.7982855482371174\n",
      "Recall (Test): 0.8249446027223806\n",
      "F1-score (Test): 0.8098077529152221\n",
      "Support (Test): None\n",
      "Classification Report:\n",
      "              precision    recall  f1-score   support\n",
      "\n",
      "not infected       0.92      0.88      0.90       486\n",
      "    infected       0.67      0.77      0.72       156\n",
      "\n",
      "    accuracy                           0.85       642\n",
      "   macro avg       0.80      0.82      0.81       642\n",
      "weighted avg       0.86      0.85      0.86       642\n",
      "\n",
      "---------------------------------------\n",
      "Train-Test Split Ratio: 0.5\n",
      "---------------------------------------\n",
      "Logistic Regression:\n",
      "Accuracy (Train): 0.8671655753040225\n",
      "Accuracy (Test): 0.8542056074766355\n",
      "Precision (Train): 0.8198875836806871\n",
      "Recall (Train): 0.85132341924923\n",
      "F1-score (Train): 0.8330921677632737\n",
      "Support (Train): None\n",
      "Precision (Test): 0.7943091369255034\n",
      "Recall (Test): 0.8131219512195123\n",
      "F1-score (Test): 0.8028777114352657\n",
      "Support (Test): None\n",
      "Classification Report:\n",
      "              precision    recall  f1-score   support\n",
      "\n",
      "not infected       0.92      0.89      0.90       820\n",
      "    infected       0.67      0.74      0.70       250\n",
      "\n",
      "    accuracy                           0.85      1070\n",
      "   macro avg       0.79      0.81      0.80      1070\n",
      "weighted avg       0.86      0.85      0.86      1070\n",
      "\n",
      "---------------------------------------\n",
      "K-Nearest Neighbors:\n",
      "Accuracy (Train): 0.883068288119738\n",
      "Accuracy (Test): 0.7962616822429907\n",
      "Precision (Train): 0.87475304623888\n",
      "Recall (Train): 0.8034893506829806\n",
      "F1-score (Train): 0.8303271559085512\n",
      "Support (Train): None\n",
      "Precision (Test): 0.7162493619917201\n",
      "Recall (Test): 0.6488048780487805\n",
      "F1-score (Test): 0.6674100013688005\n",
      "Support (Test): None\n",
      "Classification Report:\n",
      "              precision    recall  f1-score   support\n",
      "\n",
      "not infected       0.83      0.93      0.87       820\n",
      "    infected       0.60      0.37      0.46       250\n",
      "\n",
      "    accuracy                           0.80      1070\n",
      "   macro avg       0.72      0.65      0.67      1070\n",
      "weighted avg       0.78      0.80      0.78      1070\n",
      "\n",
      "---------------------------------------\n",
      "Support Vector Machine:\n",
      "Accuracy (Train): 0.8652946679139383\n",
      "Accuracy (Test): 0.8485981308411215\n",
      "Precision (Train): 0.817492545021407\n",
      "Recall (Train): 0.8525071904854387\n",
      "F1-score (Train): 0.8318065801895038\n",
      "Support (Train): None\n",
      "Precision (Test): 0.7867523205390101\n",
      "Recall (Test): 0.8122439024390244\n",
      "F1-score (Test): 0.7978787412372144\n",
      "Support (Test): None\n",
      "Classification Report:\n",
      "              precision    recall  f1-score   support\n",
      "\n",
      "not infected       0.92      0.88      0.90       820\n",
      "    infected       0.65      0.74      0.70       250\n",
      "\n",
      "    accuracy                           0.85      1070\n",
      "   macro avg       0.79      0.81      0.80      1070\n",
      "weighted avg       0.86      0.85      0.85      1070\n",
      "\n",
      "---------------------------------------\n",
      "Train-Test Split Ratio: 0.3\n",
      "---------------------------------------\n",
      "Logistic Regression:\n",
      "Accuracy (Train): 0.8720748829953198\n",
      "Accuracy (Test): 0.8511348464619493\n",
      "Precision (Train): 0.825904422649889\n",
      "Recall (Train): 0.8616679929152655\n",
      "F1-score (Train): 0.840555002790788\n",
      "Support (Train): None\n",
      "Precision (Test): 0.7930058182869983\n",
      "Recall (Test): 0.822674703518573\n",
      "F1-score (Test): 0.8055993468262823\n",
      "Support (Test): None\n",
      "Classification Report:\n",
      "              precision    recall  f1-score   support\n",
      "\n",
      "not infected       0.92      0.88      0.90      1140\n",
      "    infected       0.66      0.77      0.71       358\n",
      "\n",
      "    accuracy                           0.85      1498\n",
      "   macro avg       0.79      0.82      0.81      1498\n",
      "weighted avg       0.86      0.85      0.85      1498\n",
      "\n",
      "---------------------------------------\n",
      "K-Nearest Neighbors:\n",
      "Accuracy (Train): 0.8814352574102964\n",
      "Accuracy (Test): 0.7937249666221629\n",
      "Precision (Train): 0.8597277119016249\n",
      "Recall (Train): 0.815386195035552\n",
      "F1-score (Train): 0.8338653352976483\n",
      "Support (Train): None\n",
      "Precision (Test): 0.7181158470255158\n",
      "Recall (Test): 0.6508281877879055\n",
      "F1-score (Test): 0.6692384041365029\n",
      "Support (Test): None\n",
      "Classification Report:\n",
      "              precision    recall  f1-score   support\n",
      "\n",
      "not infected       0.83      0.92      0.87      1140\n",
      "    infected       0.61      0.38      0.47       358\n",
      "\n",
      "    accuracy                           0.79      1498\n",
      "   macro avg       0.72      0.65      0.67      1498\n",
      "weighted avg       0.77      0.79      0.78      1498\n",
      "\n",
      "---------------------------------------\n",
      "Support Vector Machine:\n",
      "Accuracy (Train): 0.8689547581903276\n",
      "Accuracy (Test): 0.8484646194926568\n",
      "Precision (Train): 0.8222920302501455\n",
      "Recall (Train): 0.8555330235901122\n",
      "F1-score (Train): 0.8360973115137347\n",
      "Support (Train): None\n",
      "Precision (Test): 0.7896652990328075\n",
      "Recall (Test): 0.817088111339802\n",
      "F1-score (Test): 0.801440297378841\n",
      "Support (Test): None\n",
      "Classification Report:\n",
      "              precision    recall  f1-score   support\n",
      "\n",
      "not infected       0.92      0.88      0.90      1140\n",
      "    infected       0.66      0.76      0.70       358\n",
      "\n",
      "    accuracy                           0.85      1498\n",
      "   macro avg       0.79      0.82      0.80      1498\n",
      "weighted avg       0.86      0.85      0.85      1498\n",
      "\n",
      "---------------------------------------\n"
     ]
    }
   ],
   "source": [
    "from sklearn.linear_model import LogisticRegression\n",
    "from sklearn.neighbors import KNeighborsClassifier\n",
    "from sklearn.svm import SVC\n",
    "from sklearn.metrics import classification_report, precision_recall_fscore_support\n",
    "\n",
    "\n",
    "# Define different train-test split ratios for evaluation\n",
    "train_splits = [0.7, 0.5, 0.3]\n",
    "\n",
    "# Define a function to evaluate models\n",
    "def evaluate_model(model, X_train_scaled, X_test_scaled, y_train, y_test):\n",
    "    # Train the model using the training data\n",
    "    model.fit(X_train_scaled, y_train)\n",
    "    \n",
    "    # Create predictions using the training and testing data\n",
    "    y_pred_train = model.predict(X_train_scaled)\n",
    "    y_pred_test = model.predict(X_test_scaled)\n",
    "    \n",
    "    # Calculate accuracy\n",
    "    acc_train = model.score(X_train_scaled, y_train)\n",
    "    acc_test = model.score(X_test_scaled, y_test)\n",
    "    \n",
    "    # Calculate precision, recall, F1-score, and support\n",
    "    p_train, r_train, f1_train, support_train = precision_recall_fscore_support(y_train, y_pred_train, average='macro')\n",
    "    p_test, r_test, f1_test, support_test = precision_recall_fscore_support(y_test, y_pred_test, average='macro')\n",
    "    \n",
    "    # Generate classification report\n",
    "    report = classification_report(y_test, y_pred_test, target_names=[\"not infected\", \"infected\"])\n",
    "    \n",
    "    return acc_train, acc_test, p_train, r_train, f1_train, support_train, p_test, r_test, f1_test, support_test, report\n",
    "\n",
    "# Iterate over different train-test split ratios and evaluate each model\n",
    "for split in train_splits:\n",
    "    print(f\"Train-Test Split Ratio: {split}\")\n",
    "    print(\"---------------------------------------\")\n",
    "    \n",
    "    # Split the data into training and testing sets\n",
    "    X_train_split, X_test_split, y_train_split, y_test_split = train_test_split(x, y, test_size=1 - split, random_state=42)\n",
    "    X_train_scaled_split = X_scaler.transform(X_train_split)\n",
    "    X_test_scaled_split = X_scaler.transform(X_test_split)\n",
    "    \n",
    "    # Logistic Regression\n",
    "    logistic_reg = LogisticRegression(solver='lbfgs', max_iter=200, random_state=1, class_weight=\"balanced\")\n",
    "    acc_train_logistic_reg, acc_test_logistic_reg, p_train_logistic_reg, r_train_logistic_reg, f1_train_logistic_reg, support_train_logistic_reg, p_test_logistic_reg, r_test_logistic_reg, f1_test_logistic_reg, support_test_logistic_reg, report_logistic_reg = evaluate_model(logistic_reg, X_train_scaled_split, X_test_scaled_split, y_train_split, y_test_split)\n",
    "    print(\"Logistic Regression:\")\n",
    "    print(f\"Accuracy (Train): {acc_train_logistic_reg}\")\n",
    "    print(f\"Accuracy (Test): {acc_test_logistic_reg}\")\n",
    "    print(f\"Precision (Train): {p_train_logistic_reg}\")\n",
    "    print(f\"Recall (Train): {r_train_logistic_reg}\")\n",
    "    print(f\"F1-score (Train): {f1_train_logistic_reg}\")\n",
    "    print(f\"Support (Train): {support_train_logistic_reg}\")\n",
    "    print(f\"Precision (Test): {p_test_logistic_reg}\")\n",
    "    print(f\"Recall (Test): {r_test_logistic_reg}\")\n",
    "    print(f\"F1-score (Test): {f1_test_logistic_reg}\")\n",
    "    print(f\"Support (Test): {support_test_logistic_reg}\")\n",
    "    print(\"Classification Report:\")\n",
    "    print(report_logistic_reg)\n",
    "    print(\"---------------------------------------\")\n",
    "    \n",
    "    # K-Nearest Neighbors\n",
    "    knn = KNeighborsClassifier(n_neighbors=3, algorithm='kd_tree')\n",
    "    acc_train_knn, acc_test_knn, p_train_knn, r_train_knn, f1_train_knn, support_train_knn, p_test_knn, r_test_knn, f1_test_knn, support_test_knn, report_knn = evaluate_model(knn, X_train_scaled_split, X_test_scaled_split, y_train_split, y_test_split)\n",
    "    print(\"K-Nearest Neighbors:\")\n",
    "    print(f\"Accuracy (Train): {acc_train_knn}\")\n",
    "    print(f\"Accuracy (Test): {acc_test_knn}\")\n",
    "    print(f\"Precision (Train): {p_train_knn}\")\n",
    "    print(f\"Recall (Train): {r_train_knn}\")\n",
    "    print(f\"F1-score (Train): {f1_train_knn}\")\n",
    "    print(f\"Support (Train): {support_train_knn}\")\n",
    "    print(f\"Precision (Test): {p_test_knn}\")\n",
    "    print(f\"Recall (Test): {r_test_knn}\")\n",
    "    print(f\"F1-score (Test): {f1_test_knn}\")\n",
    "    print(f\"Support (Test): {support_test_knn}\")\n",
    "    print(\"Classification Report:\")\n",
    "    print(report_knn)\n",
    "    print(\"---------------------------------------\")\n",
    "    \n",
    "    # Support Vector Machine\n",
    "    svm = SVC(kernel='linear', class_weight=\"balanced\")\n",
    "    acc_train_svm, acc_test_svm, p_train_svm, r_train_svm, f1_train_svm, support_train_svm, p_test_svm, r_test_svm, f1_test_svm, support_test_svm, report_svm = evaluate_model(svm, X_train_scaled_split, X_test_scaled_split, y_train_split, y_test_split)\n",
    "    print(\"Support Vector Machine:\")\n",
    "    print(f\"Accuracy (Train): {acc_train_svm}\")\n",
    "    print(f\"Accuracy (Test): {acc_test_svm}\")\n",
    "    print(f\"Precision (Train): {p_train_svm}\")\n",
    "    print(f\"Recall (Train): {r_train_svm}\")\n",
    "    print(f\"F1-score (Train): {f1_train_svm}\")\n",
    "    print(f\"Support (Train): {support_train_svm}\")\n",
    "    print(f\"Precision (Test): {p_test_svm}\")\n",
    "    print(f\"Recall (Test): {r_test_svm}\")\n",
    "    print(f\"F1-score (Test): {f1_test_svm}\")\n",
    "    print(f\"Support (Test): {support_test_svm}\")\n",
    "    print(\"Classification Report:\")\n",
    "    print(report_svm)\n",
    "    print(\"---------------------------------------\")\n",
    "\n"
   ]
  },
  {
   "cell_type": "markdown",
   "metadata": {},
   "source": [
    "Comparing the results for three available distributions of the dataset indicates that all three models have a better performance when train_test split ratio distribution is considered 70:30 (or 0.7).\n",
    "We have used the results for this distribution in the final comparison.\n"
   ]
  },
  {
   "cell_type": "code",
   "execution_count": 23,
   "metadata": {},
   "outputs": [
    {
     "name": "stdout",
     "output_type": "stream",
     "text": [
      "    Actual  Predicted\n",
      "0        0          0\n",
      "1        0          0\n",
      "2        1          1\n",
      "3        0          0\n",
      "4        0          0\n",
      "..     ...        ...\n",
      "95       1          1\n",
      "96       0          0\n",
      "97       1          0\n",
      "98       0          1\n",
      "99       0          0\n",
      "\n",
      "[100 rows x 2 columns]\n"
     ]
    }
   ],
   "source": [
    "# SVM modelcompare the actual and predicated dataset\n",
    "# Select a subset of your dataset (e.g., first 100 samples)\n",
    "subset_X = pd.DataFrame(X_test_scaled[:100])\n",
    "subset_y_actual = pd.Series(y_test[:100])\n",
    "\n",
    "# Predictions on the subset\n",
    "subset_y_pred = svm.predict(subset_X)\n",
    "\n",
    "# Comparison\n",
    "comparison_df = pd.DataFrame({'Actual': subset_y_actual, 'Predicted': subset_y_pred})\n",
    "\n",
    "print(comparison_df)"
   ]
  },
  {
   "cell_type": "markdown",
   "metadata": {},
   "source": [
    "## Methodology:\n",
    "We utilized three traditional classification algorithms: Logistic Regression, K-Nearest Neighbors (KNN), and Support Vector Machine (SVM).  \n",
    "The dataset was split into training and testing sets using different train-test split ratios: 70:30, 50:50, and 30:70.  \n",
    "Evaluation metrics included accuracy, precision, recall, F1-score, and support.  \n",
    "\n",
    "## Logistic Regression:  \n",
    "Achieved an accuracy of approximately 85% across all train-test split ratios.  \n",
    "Displayed balanced precision and recall for the \"not infected\" class, indicating robust performance in correctly identifying individuals not infected with the AIDS virus.  \n",
    "However, precision and recall for the \"infected\" class were relatively lower, suggesting challenges in correctly classifying individuals infected with the virus.  \n",
    "\n",
    "## K-Nearest Neighbors (KNN):  \n",
    "Produced an accuracy ranging from 81% to 82%.  \n",
    "Demonstrated relatively lower precision and recall for both classes compared to Logistic Regression, indicating a less optimal performance in classification.  \n",
    "\n",
    "## Support Vector Machine (SVM):  \n",
    "Attained an accuracy similar to Logistic Regression, ranging from 84% to 85%.  \n",
    "Showed balanced precision and recall for both classes, indicating effective classification performance.  \n",
    "After evaluating the performance of the SVM model with subset of the data, the model seems to perform reasonably well on the subset  of data, correctly predicting the outcomes for many samples. \n",
    "\n"
   ]
  },
  {
   "cell_type": "markdown",
   "metadata": {},
   "source": [
    "## Model 4_1: Deep Neural Networks(DNN)"
   ]
  },
  {
   "cell_type": "code",
   "execution_count": 24,
   "metadata": {},
   "outputs": [],
   "source": [
    "# Define a function to calculate accuracy_score, precision_score, and recall_score for different algorithms\n",
    "from sklearn.metrics import accuracy_score, precision_score, recall_score\n",
    "def calculate_metrics(y_train, y_test, y_pred_train, y_pred_test):\n",
    "    acc_train = round(accuracy_score(y_true=y_train, y_pred=y_pred_train), 2)\n",
    "    acc_test = round(accuracy_score(y_true=y_test, y_pred=y_pred_test), 2)\n",
    "\n",
    "    p = round(precision_score(y_true=y_test, y_pred=y_pred_test), 2)\n",
    "    r = round(recall_score(y_true=y_test, y_pred=y_pred_test), 2)\n",
    "\n",
    "    print(f\"acc train: {acc_train}, acc test: {acc_test}, precision: {p}, recall: {r}\")\n",
    "\n",
    "    return acc_train, acc_test, p, r"
   ]
  },
  {
   "cell_type": "markdown",
   "metadata": {},
   "source": [
    "#### Compile, Train and Evaluate the Model"
   ]
  },
  {
   "cell_type": "code",
   "execution_count": 25,
   "metadata": {},
   "outputs": [
    {
     "data": {
      "text/html": [
       "<pre style=\"white-space:pre;overflow-x:auto;line-height:normal;font-family:Menlo,'DejaVu Sans Mono',consolas,'Courier New',monospace\"><span style=\"font-weight: bold\">Model: \"sequential\"</span>\n",
       "</pre>\n"
      ],
      "text/plain": [
       "\u001b[1mModel: \"sequential\"\u001b[0m\n"
      ]
     },
     "metadata": {},
     "output_type": "display_data"
    },
    {
     "data": {
      "text/html": [
       "<pre style=\"white-space:pre;overflow-x:auto;line-height:normal;font-family:Menlo,'DejaVu Sans Mono',consolas,'Courier New',monospace\">┏━━━━━━━━━━━━━━━━━━━━━━━━━━━━━━━━━┳━━━━━━━━━━━━━━━━━━━━━━━━┳━━━━━━━━━━━━━━━┓\n",
       "┃<span style=\"font-weight: bold\"> Layer (type)                    </span>┃<span style=\"font-weight: bold\"> Output Shape           </span>┃<span style=\"font-weight: bold\">       Param # </span>┃\n",
       "┡━━━━━━━━━━━━━━━━━━━━━━━━━━━━━━━━━╇━━━━━━━━━━━━━━━━━━━━━━━━╇━━━━━━━━━━━━━━━┩\n",
       "│ dense (<span style=\"color: #0087ff; text-decoration-color: #0087ff\">Dense</span>)                   │ (<span style=\"color: #00d7ff; text-decoration-color: #00d7ff\">None</span>, <span style=\"color: #00af00; text-decoration-color: #00af00\">80</span>)             │         <span style=\"color: #00af00; text-decoration-color: #00af00\">1,920</span> │\n",
       "├─────────────────────────────────┼────────────────────────┼───────────────┤\n",
       "│ dense_1 (<span style=\"color: #0087ff; text-decoration-color: #0087ff\">Dense</span>)                 │ (<span style=\"color: #00d7ff; text-decoration-color: #00d7ff\">None</span>, <span style=\"color: #00af00; text-decoration-color: #00af00\">30</span>)             │         <span style=\"color: #00af00; text-decoration-color: #00af00\">2,430</span> │\n",
       "├─────────────────────────────────┼────────────────────────┼───────────────┤\n",
       "│ dense_2 (<span style=\"color: #0087ff; text-decoration-color: #0087ff\">Dense</span>)                 │ (<span style=\"color: #00d7ff; text-decoration-color: #00d7ff\">None</span>, <span style=\"color: #00af00; text-decoration-color: #00af00\">1</span>)              │            <span style=\"color: #00af00; text-decoration-color: #00af00\">31</span> │\n",
       "└─────────────────────────────────┴────────────────────────┴───────────────┘\n",
       "</pre>\n"
      ],
      "text/plain": [
       "┏━━━━━━━━━━━━━━━━━━━━━━━━━━━━━━━━━┳━━━━━━━━━━━━━━━━━━━━━━━━┳━━━━━━━━━━━━━━━┓\n",
       "┃\u001b[1m \u001b[0m\u001b[1mLayer (type)                   \u001b[0m\u001b[1m \u001b[0m┃\u001b[1m \u001b[0m\u001b[1mOutput Shape          \u001b[0m\u001b[1m \u001b[0m┃\u001b[1m \u001b[0m\u001b[1m      Param #\u001b[0m\u001b[1m \u001b[0m┃\n",
       "┡━━━━━━━━━━━━━━━━━━━━━━━━━━━━━━━━━╇━━━━━━━━━━━━━━━━━━━━━━━━╇━━━━━━━━━━━━━━━┩\n",
       "│ dense (\u001b[38;5;33mDense\u001b[0m)                   │ (\u001b[38;5;45mNone\u001b[0m, \u001b[38;5;34m80\u001b[0m)             │         \u001b[38;5;34m1,920\u001b[0m │\n",
       "├─────────────────────────────────┼────────────────────────┼───────────────┤\n",
       "│ dense_1 (\u001b[38;5;33mDense\u001b[0m)                 │ (\u001b[38;5;45mNone\u001b[0m, \u001b[38;5;34m30\u001b[0m)             │         \u001b[38;5;34m2,430\u001b[0m │\n",
       "├─────────────────────────────────┼────────────────────────┼───────────────┤\n",
       "│ dense_2 (\u001b[38;5;33mDense\u001b[0m)                 │ (\u001b[38;5;45mNone\u001b[0m, \u001b[38;5;34m1\u001b[0m)              │            \u001b[38;5;34m31\u001b[0m │\n",
       "└─────────────────────────────────┴────────────────────────┴───────────────┘\n"
      ]
     },
     "metadata": {},
     "output_type": "display_data"
    },
    {
     "data": {
      "text/html": [
       "<pre style=\"white-space:pre;overflow-x:auto;line-height:normal;font-family:Menlo,'DejaVu Sans Mono',consolas,'Courier New',monospace\"><span style=\"font-weight: bold\"> Total params: </span><span style=\"color: #00af00; text-decoration-color: #00af00\">4,381</span> (17.11 KB)\n",
       "</pre>\n"
      ],
      "text/plain": [
       "\u001b[1m Total params: \u001b[0m\u001b[38;5;34m4,381\u001b[0m (17.11 KB)\n"
      ]
     },
     "metadata": {},
     "output_type": "display_data"
    },
    {
     "data": {
      "text/html": [
       "<pre style=\"white-space:pre;overflow-x:auto;line-height:normal;font-family:Menlo,'DejaVu Sans Mono',consolas,'Courier New',monospace\"><span style=\"font-weight: bold\"> Trainable params: </span><span style=\"color: #00af00; text-decoration-color: #00af00\">4,381</span> (17.11 KB)\n",
       "</pre>\n"
      ],
      "text/plain": [
       "\u001b[1m Trainable params: \u001b[0m\u001b[38;5;34m4,381\u001b[0m (17.11 KB)\n"
      ]
     },
     "metadata": {},
     "output_type": "display_data"
    },
    {
     "data": {
      "text/html": [
       "<pre style=\"white-space:pre;overflow-x:auto;line-height:normal;font-family:Menlo,'DejaVu Sans Mono',consolas,'Courier New',monospace\"><span style=\"font-weight: bold\"> Non-trainable params: </span><span style=\"color: #00af00; text-decoration-color: #00af00\">0</span> (0.00 B)\n",
       "</pre>\n"
      ],
      "text/plain": [
       "\u001b[1m Non-trainable params: \u001b[0m\u001b[38;5;34m0\u001b[0m (0.00 B)\n"
      ]
     },
     "metadata": {},
     "output_type": "display_data"
    }
   ],
   "source": [
    "# Define the model - deep neural net, i.e., the number of input features and hidden nodes for each layer\n",
    "# Determine the number of input features\n",
    "input_features = X_train.shape[1]\n",
    "\n",
    "# Create the Keras Sequential model\n",
    "nn = tf.keras.models.Sequential()\n",
    "\n",
    "# First hidden layer\n",
    "nn.add(tf.keras.layers.Dense(units=80, activation='relu', input_dim=input_features))\n",
    "\n",
    "# Second hidden layer\n",
    "nn.add(tf.keras.layers.Dense(units=30, activation='relu'))\n",
    "\n",
    "# Output layer\n",
    "nn.add(tf.keras.layers.Dense(units=1, activation='sigmoid'))\n",
    "\n",
    "# Check the structure of the model\n",
    "nn.summary()"
   ]
  },
  {
   "cell_type": "code",
   "execution_count": 26,
   "metadata": {},
   "outputs": [],
   "source": [
    "# Compile the model\n",
    "nn.compile(optimizer='adam', loss='binary_crossentropy', metrics=['accuracy'])"
   ]
  },
  {
   "cell_type": "code",
   "execution_count": 27,
   "metadata": {},
   "outputs": [
    {
     "name": "stdout",
     "output_type": "stream",
     "text": [
      "Epoch 1/50\n",
      "\u001b[1m54/54\u001b[0m \u001b[32m━━━━━━━━━━━━━━━━━━━━\u001b[0m\u001b[37m\u001b[0m \u001b[1m1s\u001b[0m 1ms/step - accuracy: 0.7272 - loss: 0.5659  \n",
      "Epoch 2/50\n",
      "\u001b[1m54/54\u001b[0m \u001b[32m━━━━━━━━━━━━━━━━━━━━\u001b[0m\u001b[37m\u001b[0m \u001b[1m0s\u001b[0m 789us/step - accuracy: 0.8189 - loss: 0.4067\n",
      "Epoch 3/50\n",
      "\u001b[1m54/54\u001b[0m \u001b[32m━━━━━━━━━━━━━━━━━━━━\u001b[0m\u001b[37m\u001b[0m \u001b[1m0s\u001b[0m 935us/step - accuracy: 0.8533 - loss: 0.3423\n",
      "Epoch 4/50\n",
      "\u001b[1m54/54\u001b[0m \u001b[32m━━━━━━━━━━━━━━━━━━━━\u001b[0m\u001b[37m\u001b[0m \u001b[1m0s\u001b[0m 886us/step - accuracy: 0.8646 - loss: 0.3184\n",
      "Epoch 5/50\n",
      "\u001b[1m54/54\u001b[0m \u001b[32m━━━━━━━━━━━━━━━━━━━━\u001b[0m\u001b[37m\u001b[0m \u001b[1m0s\u001b[0m 912us/step - accuracy: 0.8714 - loss: 0.2934\n",
      "Epoch 6/50\n",
      "\u001b[1m54/54\u001b[0m \u001b[32m━━━━━━━━━━━━━━━━━━━━\u001b[0m\u001b[37m\u001b[0m \u001b[1m0s\u001b[0m 942us/step - accuracy: 0.8933 - loss: 0.2794\n",
      "Epoch 7/50\n",
      "\u001b[1m54/54\u001b[0m \u001b[32m━━━━━━━━━━━━━━━━━━━━\u001b[0m\u001b[37m\u001b[0m \u001b[1m0s\u001b[0m 870us/step - accuracy: 0.9068 - loss: 0.2399\n",
      "Epoch 8/50\n",
      "\u001b[1m54/54\u001b[0m \u001b[32m━━━━━━━━━━━━━━━━━━━━\u001b[0m\u001b[37m\u001b[0m \u001b[1m0s\u001b[0m 881us/step - accuracy: 0.8969 - loss: 0.2454\n",
      "Epoch 9/50\n",
      "\u001b[1m54/54\u001b[0m \u001b[32m━━━━━━━━━━━━━━━━━━━━\u001b[0m\u001b[37m\u001b[0m \u001b[1m0s\u001b[0m 2ms/step - accuracy: 0.9231 - loss: 0.2095\n",
      "Epoch 10/50\n",
      "\u001b[1m54/54\u001b[0m \u001b[32m━━━━━━━━━━━━━━━━━━━━\u001b[0m\u001b[37m\u001b[0m \u001b[1m0s\u001b[0m 875us/step - accuracy: 0.9260 - loss: 0.2082\n",
      "Epoch 11/50\n",
      "\u001b[1m54/54\u001b[0m \u001b[32m━━━━━━━━━━━━━━━━━━━━\u001b[0m\u001b[37m\u001b[0m \u001b[1m0s\u001b[0m 837us/step - accuracy: 0.9165 - loss: 0.2120\n",
      "Epoch 12/50\n",
      "\u001b[1m54/54\u001b[0m \u001b[32m━━━━━━━━━━━━━━━━━━━━\u001b[0m\u001b[37m\u001b[0m \u001b[1m0s\u001b[0m 801us/step - accuracy: 0.9376 - loss: 0.1725\n",
      "Epoch 13/50\n",
      "\u001b[1m54/54\u001b[0m \u001b[32m━━━━━━━━━━━━━━━━━━━━\u001b[0m\u001b[37m\u001b[0m \u001b[1m0s\u001b[0m 797us/step - accuracy: 0.9253 - loss: 0.1878\n",
      "Epoch 14/50\n",
      "\u001b[1m54/54\u001b[0m \u001b[32m━━━━━━━━━━━━━━━━━━━━\u001b[0m\u001b[37m\u001b[0m \u001b[1m0s\u001b[0m 757us/step - accuracy: 0.9250 - loss: 0.1794\n",
      "Epoch 15/50\n",
      "\u001b[1m54/54\u001b[0m \u001b[32m━━━━━━━━━━━━━━━━━━━━\u001b[0m\u001b[37m\u001b[0m \u001b[1m0s\u001b[0m 809us/step - accuracy: 0.9321 - loss: 0.1787\n",
      "Epoch 16/50\n",
      "\u001b[1m54/54\u001b[0m \u001b[32m━━━━━━━━━━━━━━━━━━━━\u001b[0m\u001b[37m\u001b[0m \u001b[1m0s\u001b[0m 776us/step - accuracy: 0.9346 - loss: 0.1665\n",
      "Epoch 17/50\n",
      "\u001b[1m54/54\u001b[0m \u001b[32m━━━━━━━━━━━━━━━━━━━━\u001b[0m\u001b[37m\u001b[0m \u001b[1m0s\u001b[0m 820us/step - accuracy: 0.9372 - loss: 0.1615\n",
      "Epoch 18/50\n",
      "\u001b[1m54/54\u001b[0m \u001b[32m━━━━━━━━━━━━━━━━━━━━\u001b[0m\u001b[37m\u001b[0m \u001b[1m0s\u001b[0m 960us/step - accuracy: 0.9468 - loss: 0.1405\n",
      "Epoch 19/50\n",
      "\u001b[1m54/54\u001b[0m \u001b[32m━━━━━━━━━━━━━━━━━━━━\u001b[0m\u001b[37m\u001b[0m \u001b[1m0s\u001b[0m 918us/step - accuracy: 0.9475 - loss: 0.1424\n",
      "Epoch 20/50\n",
      "\u001b[1m54/54\u001b[0m \u001b[32m━━━━━━━━━━━━━━━━━━━━\u001b[0m\u001b[37m\u001b[0m \u001b[1m0s\u001b[0m 1ms/step - accuracy: 0.9353 - loss: 0.1613\n",
      "Epoch 21/50\n",
      "\u001b[1m54/54\u001b[0m \u001b[32m━━━━━━━━━━━━━━━━━━━━\u001b[0m\u001b[37m\u001b[0m \u001b[1m0s\u001b[0m 1ms/step - accuracy: 0.9476 - loss: 0.1392\n",
      "Epoch 22/50\n",
      "\u001b[1m54/54\u001b[0m \u001b[32m━━━━━━━━━━━━━━━━━━━━\u001b[0m\u001b[37m\u001b[0m \u001b[1m0s\u001b[0m 1ms/step - accuracy: 0.9435 - loss: 0.1379\n",
      "Epoch 23/50\n",
      "\u001b[1m54/54\u001b[0m \u001b[32m━━━━━━━━━━━━━━━━━━━━\u001b[0m\u001b[37m\u001b[0m \u001b[1m0s\u001b[0m 1ms/step - accuracy: 0.9508 - loss: 0.1285\n",
      "Epoch 24/50\n",
      "\u001b[1m54/54\u001b[0m \u001b[32m━━━━━━━━━━━━━━━━━━━━\u001b[0m\u001b[37m\u001b[0m \u001b[1m0s\u001b[0m 1ms/step - accuracy: 0.9520 - loss: 0.1208\n",
      "Epoch 25/50\n",
      "\u001b[1m54/54\u001b[0m \u001b[32m━━━━━━━━━━━━━━━━━━━━\u001b[0m\u001b[37m\u001b[0m \u001b[1m0s\u001b[0m 1ms/step - accuracy: 0.9536 - loss: 0.1267\n",
      "Epoch 26/50\n",
      "\u001b[1m54/54\u001b[0m \u001b[32m━━━━━━━━━━━━━━━━━━━━\u001b[0m\u001b[37m\u001b[0m \u001b[1m0s\u001b[0m 1ms/step - accuracy: 0.9560 - loss: 0.1188\n",
      "Epoch 27/50\n",
      "\u001b[1m54/54\u001b[0m \u001b[32m━━━━━━━━━━━━━━━━━━━━\u001b[0m\u001b[37m\u001b[0m \u001b[1m0s\u001b[0m 1ms/step - accuracy: 0.9593 - loss: 0.1183\n",
      "Epoch 28/50\n",
      "\u001b[1m54/54\u001b[0m \u001b[32m━━━━━━━━━━━━━━━━━━━━\u001b[0m\u001b[37m\u001b[0m \u001b[1m0s\u001b[0m 1ms/step - accuracy: 0.9651 - loss: 0.1096\n",
      "Epoch 29/50\n",
      "\u001b[1m54/54\u001b[0m \u001b[32m━━━━━━━━━━━━━━━━━━━━\u001b[0m\u001b[37m\u001b[0m \u001b[1m0s\u001b[0m 889us/step - accuracy: 0.9666 - loss: 0.1058\n",
      "Epoch 30/50\n",
      "\u001b[1m54/54\u001b[0m \u001b[32m━━━━━━━━━━━━━━━━━━━━\u001b[0m\u001b[37m\u001b[0m \u001b[1m0s\u001b[0m 836us/step - accuracy: 0.9685 - loss: 0.1002\n",
      "Epoch 31/50\n",
      "\u001b[1m54/54\u001b[0m \u001b[32m━━━━━━━━━━━━━━━━━━━━\u001b[0m\u001b[37m\u001b[0m \u001b[1m0s\u001b[0m 781us/step - accuracy: 0.9733 - loss: 0.0938\n",
      "Epoch 32/50\n",
      "\u001b[1m54/54\u001b[0m \u001b[32m━━━━━━━━━━━━━━━━━━━━\u001b[0m\u001b[37m\u001b[0m \u001b[1m0s\u001b[0m 874us/step - accuracy: 0.9682 - loss: 0.1016\n",
      "Epoch 33/50\n",
      "\u001b[1m54/54\u001b[0m \u001b[32m━━━━━━━━━━━━━━━━━━━━\u001b[0m\u001b[37m\u001b[0m \u001b[1m0s\u001b[0m 881us/step - accuracy: 0.9673 - loss: 0.0975\n",
      "Epoch 34/50\n",
      "\u001b[1m54/54\u001b[0m \u001b[32m━━━━━━━━━━━━━━━━━━━━\u001b[0m\u001b[37m\u001b[0m \u001b[1m0s\u001b[0m 873us/step - accuracy: 0.9743 - loss: 0.0798\n",
      "Epoch 35/50\n",
      "\u001b[1m54/54\u001b[0m \u001b[32m━━━━━━━━━━━━━━━━━━━━\u001b[0m\u001b[37m\u001b[0m \u001b[1m0s\u001b[0m 877us/step - accuracy: 0.9801 - loss: 0.0722\n",
      "Epoch 36/50\n",
      "\u001b[1m54/54\u001b[0m \u001b[32m━━━━━━━━━━━━━━━━━━━━\u001b[0m\u001b[37m\u001b[0m \u001b[1m0s\u001b[0m 911us/step - accuracy: 0.9742 - loss: 0.0780\n",
      "Epoch 37/50\n",
      "\u001b[1m54/54\u001b[0m \u001b[32m━━━━━━━━━━━━━━━━━━━━\u001b[0m\u001b[37m\u001b[0m \u001b[1m0s\u001b[0m 903us/step - accuracy: 0.9806 - loss: 0.0731\n",
      "Epoch 38/50\n",
      "\u001b[1m54/54\u001b[0m \u001b[32m━━━━━━━━━━━━━━━━━━━━\u001b[0m\u001b[37m\u001b[0m \u001b[1m0s\u001b[0m 874us/step - accuracy: 0.9807 - loss: 0.0750\n",
      "Epoch 39/50\n",
      "\u001b[1m54/54\u001b[0m \u001b[32m━━━━━━━━━━━━━━━━━━━━\u001b[0m\u001b[37m\u001b[0m \u001b[1m0s\u001b[0m 868us/step - accuracy: 0.9800 - loss: 0.0736\n",
      "Epoch 40/50\n",
      "\u001b[1m54/54\u001b[0m \u001b[32m━━━━━━━━━━━━━━━━━━━━\u001b[0m\u001b[37m\u001b[0m \u001b[1m0s\u001b[0m 896us/step - accuracy: 0.9842 - loss: 0.0713\n",
      "Epoch 41/50\n",
      "\u001b[1m54/54\u001b[0m \u001b[32m━━━━━━━━━━━━━━━━━━━━\u001b[0m\u001b[37m\u001b[0m \u001b[1m0s\u001b[0m 896us/step - accuracy: 0.9818 - loss: 0.0652\n",
      "Epoch 42/50\n",
      "\u001b[1m54/54\u001b[0m \u001b[32m━━━━━━━━━━━━━━━━━━━━\u001b[0m\u001b[37m\u001b[0m \u001b[1m0s\u001b[0m 875us/step - accuracy: 0.9802 - loss: 0.0649\n",
      "Epoch 43/50\n",
      "\u001b[1m54/54\u001b[0m \u001b[32m━━━━━━━━━━━━━━━━━━━━\u001b[0m\u001b[37m\u001b[0m \u001b[1m0s\u001b[0m 917us/step - accuracy: 0.9874 - loss: 0.0568\n",
      "Epoch 44/50\n",
      "\u001b[1m54/54\u001b[0m \u001b[32m━━━━━━━━━━━━━━━━━━━━\u001b[0m\u001b[37m\u001b[0m \u001b[1m0s\u001b[0m 894us/step - accuracy: 0.9913 - loss: 0.0534\n",
      "Epoch 45/50\n",
      "\u001b[1m54/54\u001b[0m \u001b[32m━━━━━━━━━━━━━━━━━━━━\u001b[0m\u001b[37m\u001b[0m \u001b[1m0s\u001b[0m 880us/step - accuracy: 0.9858 - loss: 0.0582\n",
      "Epoch 46/50\n",
      "\u001b[1m54/54\u001b[0m \u001b[32m━━━━━━━━━━━━━━━━━━━━\u001b[0m\u001b[37m\u001b[0m \u001b[1m0s\u001b[0m 890us/step - accuracy: 0.9900 - loss: 0.0492\n",
      "Epoch 47/50\n",
      "\u001b[1m54/54\u001b[0m \u001b[32m━━━━━━━━━━━━━━━━━━━━\u001b[0m\u001b[37m\u001b[0m \u001b[1m0s\u001b[0m 1ms/step - accuracy: 0.9914 - loss: 0.0514\n",
      "Epoch 48/50\n",
      "\u001b[1m54/54\u001b[0m \u001b[32m━━━━━━━━━━━━━━━━━━━━\u001b[0m\u001b[37m\u001b[0m \u001b[1m0s\u001b[0m 1ms/step - accuracy: 0.9892 - loss: 0.0483\n",
      "Epoch 49/50\n",
      "\u001b[1m54/54\u001b[0m \u001b[32m━━━━━━━━━━━━━━━━━━━━\u001b[0m\u001b[37m\u001b[0m \u001b[1m0s\u001b[0m 2ms/step - accuracy: 0.9916 - loss: 0.0448\n",
      "Epoch 50/50\n",
      "\u001b[1m54/54\u001b[0m \u001b[32m━━━━━━━━━━━━━━━━━━━━\u001b[0m\u001b[37m\u001b[0m \u001b[1m0s\u001b[0m 2ms/step - accuracy: 0.9927 - loss: 0.0424\n"
     ]
    }
   ],
   "source": [
    "# Train the model\n",
    "fit_model = nn.fit(X_train_scaled, y_train, epochs=50)"
   ]
  },
  {
   "cell_type": "code",
   "execution_count": 28,
   "metadata": {},
   "outputs": [
    {
     "name": "stdout",
     "output_type": "stream",
     "text": [
      "\u001b[1m54/54\u001b[0m \u001b[32m━━━━━━━━━━━━━━━━━━━━\u001b[0m\u001b[37m\u001b[0m \u001b[1m0s\u001b[0m 983us/step\n",
      "\u001b[1m14/14\u001b[0m \u001b[32m━━━━━━━━━━━━━━━━━━━━\u001b[0m\u001b[37m\u001b[0m \u001b[1m0s\u001b[0m 626us/step\n",
      "Metrics for Nural Network model_1: \n",
      "acc train: 1.0, acc test: 0.87, precision: 0.8, recall: 0.71\n"
     ]
    }
   ],
   "source": [
    "# Evaluate the model using the function to calculate different metrics for this model\n",
    "# Create predictions using the testing data\n",
    "y_pred_train = nn.predict(X_train_scaled)>0.5\n",
    "y_pred_test = nn.predict(X_test_scaled)>0.5\n",
    "\n",
    "# Calling the function to calculate the metrics\n",
    "print(f\"Metrics for Nural Network model_1: \")\n",
    "acc_train_knn, acc_test_knn, p_knn, r_knn = calculate_metrics(y_train, y_test, y_pred_train, y_pred_test)"
   ]
  },
  {
   "cell_type": "code",
   "execution_count": 29,
   "metadata": {},
   "outputs": [
    {
     "name": "stdout",
     "output_type": "stream",
     "text": [
      "14/14 - 0s - 7ms/step - accuracy: 0.8715 - loss: 0.4535\n",
      "Loss: 0.45354312658309937, Accuracy: 0.8714953064918518\n"
     ]
    }
   ],
   "source": [
    "# Evaluate the model using the test data\n",
    "model_loss, model_accuracy = nn.evaluate(X_test_scaled,y_test,verbose=2)\n",
    "print(f\"Loss: {model_loss}, Accuracy: {model_accuracy}\")"
   ]
  },
  {
   "cell_type": "markdown",
   "metadata": {},
   "source": [
    "## Model 4_2: Deep Neural Networks(DNN)"
   ]
  },
  {
   "cell_type": "markdown",
   "metadata": {},
   "source": [
    "Attempt 1: Use same structure but different number of nurons in each layer and increasing the Epoch from 50 t0 100. Also the number of units from 80 and 30 have changed to 14 and 7 as well."
   ]
  },
  {
   "cell_type": "code",
   "execution_count": 30,
   "metadata": {},
   "outputs": [
    {
     "data": {
      "text/html": [
       "<pre style=\"white-space:pre;overflow-x:auto;line-height:normal;font-family:Menlo,'DejaVu Sans Mono',consolas,'Courier New',monospace\"><span style=\"font-weight: bold\">Model: \"sequential_2\"</span>\n",
       "</pre>\n"
      ],
      "text/plain": [
       "\u001b[1mModel: \"sequential_2\"\u001b[0m\n"
      ]
     },
     "metadata": {},
     "output_type": "display_data"
    },
    {
     "data": {
      "text/html": [
       "<pre style=\"white-space:pre;overflow-x:auto;line-height:normal;font-family:Menlo,'DejaVu Sans Mono',consolas,'Courier New',monospace\">┏━━━━━━━━━━━━━━━━━━━━━━━━━━━━━━━━━┳━━━━━━━━━━━━━━━━━━━━━━━━┳━━━━━━━━━━━━━━━┓\n",
       "┃<span style=\"font-weight: bold\"> Layer (type)                    </span>┃<span style=\"font-weight: bold\"> Output Shape           </span>┃<span style=\"font-weight: bold\">       Param # </span>┃\n",
       "┡━━━━━━━━━━━━━━━━━━━━━━━━━━━━━━━━━╇━━━━━━━━━━━━━━━━━━━━━━━━╇━━━━━━━━━━━━━━━┩\n",
       "│ dense_3 (<span style=\"color: #0087ff; text-decoration-color: #0087ff\">Dense</span>)                 │ (<span style=\"color: #00d7ff; text-decoration-color: #00d7ff\">None</span>, <span style=\"color: #00af00; text-decoration-color: #00af00\">14</span>)             │           <span style=\"color: #00af00; text-decoration-color: #00af00\">336</span> │\n",
       "├─────────────────────────────────┼────────────────────────┼───────────────┤\n",
       "│ dense_4 (<span style=\"color: #0087ff; text-decoration-color: #0087ff\">Dense</span>)                 │ (<span style=\"color: #00d7ff; text-decoration-color: #00d7ff\">None</span>, <span style=\"color: #00af00; text-decoration-color: #00af00\">7</span>)              │           <span style=\"color: #00af00; text-decoration-color: #00af00\">105</span> │\n",
       "├─────────────────────────────────┼────────────────────────┼───────────────┤\n",
       "│ dense_5 (<span style=\"color: #0087ff; text-decoration-color: #0087ff\">Dense</span>)                 │ (<span style=\"color: #00d7ff; text-decoration-color: #00d7ff\">None</span>, <span style=\"color: #00af00; text-decoration-color: #00af00\">1</span>)              │             <span style=\"color: #00af00; text-decoration-color: #00af00\">8</span> │\n",
       "└─────────────────────────────────┴────────────────────────┴───────────────┘\n",
       "</pre>\n"
      ],
      "text/plain": [
       "┏━━━━━━━━━━━━━━━━━━━━━━━━━━━━━━━━━┳━━━━━━━━━━━━━━━━━━━━━━━━┳━━━━━━━━━━━━━━━┓\n",
       "┃\u001b[1m \u001b[0m\u001b[1mLayer (type)                   \u001b[0m\u001b[1m \u001b[0m┃\u001b[1m \u001b[0m\u001b[1mOutput Shape          \u001b[0m\u001b[1m \u001b[0m┃\u001b[1m \u001b[0m\u001b[1m      Param #\u001b[0m\u001b[1m \u001b[0m┃\n",
       "┡━━━━━━━━━━━━━━━━━━━━━━━━━━━━━━━━━╇━━━━━━━━━━━━━━━━━━━━━━━━╇━━━━━━━━━━━━━━━┩\n",
       "│ dense_3 (\u001b[38;5;33mDense\u001b[0m)                 │ (\u001b[38;5;45mNone\u001b[0m, \u001b[38;5;34m14\u001b[0m)             │           \u001b[38;5;34m336\u001b[0m │\n",
       "├─────────────────────────────────┼────────────────────────┼───────────────┤\n",
       "│ dense_4 (\u001b[38;5;33mDense\u001b[0m)                 │ (\u001b[38;5;45mNone\u001b[0m, \u001b[38;5;34m7\u001b[0m)              │           \u001b[38;5;34m105\u001b[0m │\n",
       "├─────────────────────────────────┼────────────────────────┼───────────────┤\n",
       "│ dense_5 (\u001b[38;5;33mDense\u001b[0m)                 │ (\u001b[38;5;45mNone\u001b[0m, \u001b[38;5;34m1\u001b[0m)              │             \u001b[38;5;34m8\u001b[0m │\n",
       "└─────────────────────────────────┴────────────────────────┴───────────────┘\n"
      ]
     },
     "metadata": {},
     "output_type": "display_data"
    },
    {
     "data": {
      "text/html": [
       "<pre style=\"white-space:pre;overflow-x:auto;line-height:normal;font-family:Menlo,'DejaVu Sans Mono',consolas,'Courier New',monospace\"><span style=\"font-weight: bold\"> Total params: </span><span style=\"color: #00af00; text-decoration-color: #00af00\">449</span> (1.75 KB)\n",
       "</pre>\n"
      ],
      "text/plain": [
       "\u001b[1m Total params: \u001b[0m\u001b[38;5;34m449\u001b[0m (1.75 KB)\n"
      ]
     },
     "metadata": {},
     "output_type": "display_data"
    },
    {
     "data": {
      "text/html": [
       "<pre style=\"white-space:pre;overflow-x:auto;line-height:normal;font-family:Menlo,'DejaVu Sans Mono',consolas,'Courier New',monospace\"><span style=\"font-weight: bold\"> Trainable params: </span><span style=\"color: #00af00; text-decoration-color: #00af00\">449</span> (1.75 KB)\n",
       "</pre>\n"
      ],
      "text/plain": [
       "\u001b[1m Trainable params: \u001b[0m\u001b[38;5;34m449\u001b[0m (1.75 KB)\n"
      ]
     },
     "metadata": {},
     "output_type": "display_data"
    },
    {
     "data": {
      "text/html": [
       "<pre style=\"white-space:pre;overflow-x:auto;line-height:normal;font-family:Menlo,'DejaVu Sans Mono',consolas,'Courier New',monospace\"><span style=\"font-weight: bold\"> Non-trainable params: </span><span style=\"color: #00af00; text-decoration-color: #00af00\">0</span> (0.00 B)\n",
       "</pre>\n"
      ],
      "text/plain": [
       "\u001b[1m Non-trainable params: \u001b[0m\u001b[38;5;34m0\u001b[0m (0.00 B)\n"
      ]
     },
     "metadata": {},
     "output_type": "display_data"
    }
   ],
   "source": [
    "# Define the model - deep neural net, i.e., the number of input features and hidden nodes for each layer.\n",
    "# Determine the number of input features\n",
    "number_input_features = len( X_train_scaled[0])\n",
    "hidden_nodes_layer1=14\n",
    "hidden_nodes_layer2=7\n",
    "nn = tf.keras.models.Sequential()\n",
    "\n",
    "nn = tf.keras.models.Sequential()\n",
    "\n",
    "# First hidden layer\n",
    "nn.add(tf.keras.layers.Dense(units=hidden_nodes_layer1, input_dim=number_input_features, activation='relu'))\n",
    "\n",
    "# Second hidden layer\n",
    "nn.add(tf.keras.layers.Dense(units=hidden_nodes_layer2, activation='relu'))\n",
    "\n",
    "# Output layer\n",
    "nn.add(tf.keras.layers.Dense(units=1, activation='sigmoid'))\n",
    "\n",
    "# Check the structure of the model\n",
    "nn.summary()"
   ]
  },
  {
   "cell_type": "code",
   "execution_count": 31,
   "metadata": {},
   "outputs": [],
   "source": [
    "# Compile the model\n",
    "nn.compile(optimizer='adam', loss='binary_crossentropy', metrics=['accuracy'])"
   ]
  },
  {
   "cell_type": "code",
   "execution_count": 32,
   "metadata": {},
   "outputs": [
    {
     "name": "stdout",
     "output_type": "stream",
     "text": [
      "Epoch 1/100\n",
      "\u001b[1m54/54\u001b[0m \u001b[32m━━━━━━━━━━━━━━━━━━━━\u001b[0m\u001b[37m\u001b[0m \u001b[1m1s\u001b[0m 906us/step - accuracy: 0.5561 - loss: 0.6960 \n",
      "Epoch 2/100\n",
      "\u001b[1m54/54\u001b[0m \u001b[32m━━━━━━━━━━━━━━━━━━━━\u001b[0m\u001b[37m\u001b[0m \u001b[1m0s\u001b[0m 830us/step - accuracy: 0.7420 - loss: 0.5476\n",
      "Epoch 3/100\n",
      "\u001b[1m54/54\u001b[0m \u001b[32m━━━━━━━━━━━━━━━━━━━━\u001b[0m\u001b[37m\u001b[0m \u001b[1m0s\u001b[0m 706us/step - accuracy: 0.8166 - loss: 0.4535\n",
      "Epoch 4/100\n",
      "\u001b[1m54/54\u001b[0m \u001b[32m━━━━━━━━━━━━━━━━━━━━\u001b[0m\u001b[37m\u001b[0m \u001b[1m0s\u001b[0m 827us/step - accuracy: 0.8120 - loss: 0.4431\n",
      "Epoch 5/100\n",
      "\u001b[1m54/54\u001b[0m \u001b[32m━━━━━━━━━━━━━━━━━━━━\u001b[0m\u001b[37m\u001b[0m \u001b[1m0s\u001b[0m 2ms/step - accuracy: 0.8416 - loss: 0.3926\n",
      "Epoch 6/100\n",
      "\u001b[1m54/54\u001b[0m \u001b[32m━━━━━━━━━━━━━━━━━━━━\u001b[0m\u001b[37m\u001b[0m \u001b[1m0s\u001b[0m 926us/step - accuracy: 0.8544 - loss: 0.3725\n",
      "Epoch 7/100\n",
      "\u001b[1m54/54\u001b[0m \u001b[32m━━━━━━━━━━━━━━━━━━━━\u001b[0m\u001b[37m\u001b[0m \u001b[1m0s\u001b[0m 943us/step - accuracy: 0.8542 - loss: 0.3684\n",
      "Epoch 8/100\n",
      "\u001b[1m54/54\u001b[0m \u001b[32m━━━━━━━━━━━━━━━━━━━━\u001b[0m\u001b[37m\u001b[0m \u001b[1m0s\u001b[0m 1ms/step - accuracy: 0.8654 - loss: 0.3443\n",
      "Epoch 9/100\n",
      "\u001b[1m54/54\u001b[0m \u001b[32m━━━━━━━━━━━━━━━━━━━━\u001b[0m\u001b[37m\u001b[0m \u001b[1m0s\u001b[0m 873us/step - accuracy: 0.8786 - loss: 0.3165\n",
      "Epoch 10/100\n",
      "\u001b[1m54/54\u001b[0m \u001b[32m━━━━━━━━━━━━━━━━━━━━\u001b[0m\u001b[37m\u001b[0m \u001b[1m0s\u001b[0m 856us/step - accuracy: 0.8757 - loss: 0.3153\n",
      "Epoch 11/100\n",
      "\u001b[1m54/54\u001b[0m \u001b[32m━━━━━━━━━━━━━━━━━━━━\u001b[0m\u001b[37m\u001b[0m \u001b[1m0s\u001b[0m 845us/step - accuracy: 0.8819 - loss: 0.3036\n",
      "Epoch 12/100\n",
      "\u001b[1m54/54\u001b[0m \u001b[32m━━━━━━━━━━━━━━━━━━━━\u001b[0m\u001b[37m\u001b[0m \u001b[1m0s\u001b[0m 832us/step - accuracy: 0.8602 - loss: 0.3262\n",
      "Epoch 13/100\n",
      "\u001b[1m54/54\u001b[0m \u001b[32m━━━━━━━━━━━━━━━━━━━━\u001b[0m\u001b[37m\u001b[0m \u001b[1m0s\u001b[0m 871us/step - accuracy: 0.8883 - loss: 0.2958\n",
      "Epoch 14/100\n",
      "\u001b[1m54/54\u001b[0m \u001b[32m━━━━━━━━━━━━━━━━━━━━\u001b[0m\u001b[37m\u001b[0m \u001b[1m0s\u001b[0m 844us/step - accuracy: 0.8805 - loss: 0.3000\n",
      "Epoch 15/100\n",
      "\u001b[1m54/54\u001b[0m \u001b[32m━━━━━━━━━━━━━━━━━━━━\u001b[0m\u001b[37m\u001b[0m \u001b[1m0s\u001b[0m 838us/step - accuracy: 0.9013 - loss: 0.2660\n",
      "Epoch 16/100\n",
      "\u001b[1m54/54\u001b[0m \u001b[32m━━━━━━━━━━━━━━━━━━━━\u001b[0m\u001b[37m\u001b[0m \u001b[1m0s\u001b[0m 989us/step - accuracy: 0.8940 - loss: 0.2702\n",
      "Epoch 17/100\n",
      "\u001b[1m54/54\u001b[0m \u001b[32m━━━━━━━━━━━━━━━━━━━━\u001b[0m\u001b[37m\u001b[0m \u001b[1m0s\u001b[0m 822us/step - accuracy: 0.8864 - loss: 0.2846\n",
      "Epoch 18/100\n",
      "\u001b[1m54/54\u001b[0m \u001b[32m━━━━━━━━━━━━━━━━━━━━\u001b[0m\u001b[37m\u001b[0m \u001b[1m0s\u001b[0m 841us/step - accuracy: 0.8988 - loss: 0.2620\n",
      "Epoch 19/100\n",
      "\u001b[1m54/54\u001b[0m \u001b[32m━━━━━━━━━━━━━━━━━━━━\u001b[0m\u001b[37m\u001b[0m \u001b[1m0s\u001b[0m 838us/step - accuracy: 0.9012 - loss: 0.2539\n",
      "Epoch 20/100\n",
      "\u001b[1m54/54\u001b[0m \u001b[32m━━━━━━━━━━━━━━━━━━━━\u001b[0m\u001b[37m\u001b[0m \u001b[1m0s\u001b[0m 837us/step - accuracy: 0.9024 - loss: 0.2526\n",
      "Epoch 21/100\n",
      "\u001b[1m54/54\u001b[0m \u001b[32m━━━━━━━━━━━━━━━━━━━━\u001b[0m\u001b[37m\u001b[0m \u001b[1m0s\u001b[0m 836us/step - accuracy: 0.8933 - loss: 0.2666\n",
      "Epoch 22/100\n",
      "\u001b[1m54/54\u001b[0m \u001b[32m━━━━━━━━━━━━━━━━━━━━\u001b[0m\u001b[37m\u001b[0m \u001b[1m0s\u001b[0m 846us/step - accuracy: 0.9125 - loss: 0.2293\n",
      "Epoch 23/100\n",
      "\u001b[1m54/54\u001b[0m \u001b[32m━━━━━━━━━━━━━━━━━━━━\u001b[0m\u001b[37m\u001b[0m \u001b[1m0s\u001b[0m 855us/step - accuracy: 0.9051 - loss: 0.2395\n",
      "Epoch 24/100\n",
      "\u001b[1m54/54\u001b[0m \u001b[32m━━━━━━━━━━━━━━━━━━━━\u001b[0m\u001b[37m\u001b[0m \u001b[1m0s\u001b[0m 855us/step - accuracy: 0.8947 - loss: 0.2491\n",
      "Epoch 25/100\n",
      "\u001b[1m54/54\u001b[0m \u001b[32m━━━━━━━━━━━━━━━━━━━━\u001b[0m\u001b[37m\u001b[0m \u001b[1m0s\u001b[0m 1ms/step - accuracy: 0.9162 - loss: 0.2123  \n",
      "Epoch 26/100\n",
      "\u001b[1m54/54\u001b[0m \u001b[32m━━━━━━━━━━━━━━━━━━━━\u001b[0m\u001b[37m\u001b[0m \u001b[1m0s\u001b[0m 1ms/step - accuracy: 0.9170 - loss: 0.2247\n",
      "Epoch 27/100\n",
      "\u001b[1m54/54\u001b[0m \u001b[32m━━━━━━━━━━━━━━━━━━━━\u001b[0m\u001b[37m\u001b[0m \u001b[1m0s\u001b[0m 1ms/step - accuracy: 0.8991 - loss: 0.2481\n",
      "Epoch 28/100\n",
      "\u001b[1m54/54\u001b[0m \u001b[32m━━━━━━━━━━━━━━━━━━━━\u001b[0m\u001b[37m\u001b[0m \u001b[1m0s\u001b[0m 1ms/step - accuracy: 0.9053 - loss: 0.2414\n",
      "Epoch 29/100\n",
      "\u001b[1m54/54\u001b[0m \u001b[32m━━━━━━━━━━━━━━━━━━━━\u001b[0m\u001b[37m\u001b[0m \u001b[1m0s\u001b[0m 863us/step - accuracy: 0.9123 - loss: 0.2131\n",
      "Epoch 30/100\n",
      "\u001b[1m54/54\u001b[0m \u001b[32m━━━━━━━━━━━━━━━━━━━━\u001b[0m\u001b[37m\u001b[0m \u001b[1m0s\u001b[0m 847us/step - accuracy: 0.9116 - loss: 0.2238\n",
      "Epoch 31/100\n",
      "\u001b[1m54/54\u001b[0m \u001b[32m━━━━━━━━━━━━━━━━━━━━\u001b[0m\u001b[37m\u001b[0m \u001b[1m0s\u001b[0m 858us/step - accuracy: 0.9101 - loss: 0.2205\n",
      "Epoch 32/100\n",
      "\u001b[1m54/54\u001b[0m \u001b[32m━━━━━━━━━━━━━━━━━━━━\u001b[0m\u001b[37m\u001b[0m \u001b[1m0s\u001b[0m 858us/step - accuracy: 0.9111 - loss: 0.2298\n",
      "Epoch 33/100\n",
      "\u001b[1m54/54\u001b[0m \u001b[32m━━━━━━━━━━━━━━━━━━━━\u001b[0m\u001b[37m\u001b[0m \u001b[1m0s\u001b[0m 843us/step - accuracy: 0.9169 - loss: 0.2077\n",
      "Epoch 34/100\n",
      "\u001b[1m54/54\u001b[0m \u001b[32m━━━━━━━━━━━━━━━━━━━━\u001b[0m\u001b[37m\u001b[0m \u001b[1m0s\u001b[0m 834us/step - accuracy: 0.9099 - loss: 0.2268\n",
      "Epoch 35/100\n",
      "\u001b[1m54/54\u001b[0m \u001b[32m━━━━━━━━━━━━━━━━━━━━\u001b[0m\u001b[37m\u001b[0m \u001b[1m0s\u001b[0m 867us/step - accuracy: 0.9166 - loss: 0.1976\n",
      "Epoch 36/100\n",
      "\u001b[1m54/54\u001b[0m \u001b[32m━━━━━━━━━━━━━━━━━━━━\u001b[0m\u001b[37m\u001b[0m \u001b[1m0s\u001b[0m 855us/step - accuracy: 0.9203 - loss: 0.2003\n",
      "Epoch 37/100\n",
      "\u001b[1m54/54\u001b[0m \u001b[32m━━━━━━━━━━━━━━━━━━━━\u001b[0m\u001b[37m\u001b[0m \u001b[1m0s\u001b[0m 864us/step - accuracy: 0.9246 - loss: 0.1981\n",
      "Epoch 38/100\n",
      "\u001b[1m54/54\u001b[0m \u001b[32m━━━━━━━━━━━━━━━━━━━━\u001b[0m\u001b[37m\u001b[0m \u001b[1m0s\u001b[0m 856us/step - accuracy: 0.9204 - loss: 0.2089\n",
      "Epoch 39/100\n",
      "\u001b[1m54/54\u001b[0m \u001b[32m━━━━━━━━━━━━━━━━━━━━\u001b[0m\u001b[37m\u001b[0m \u001b[1m0s\u001b[0m 907us/step - accuracy: 0.9127 - loss: 0.2118\n",
      "Epoch 40/100\n",
      "\u001b[1m54/54\u001b[0m \u001b[32m━━━━━━━━━━━━━━━━━━━━\u001b[0m\u001b[37m\u001b[0m \u001b[1m0s\u001b[0m 874us/step - accuracy: 0.9280 - loss: 0.1920\n",
      "Epoch 41/100\n",
      "\u001b[1m54/54\u001b[0m \u001b[32m━━━━━━━━━━━━━━━━━━━━\u001b[0m\u001b[37m\u001b[0m \u001b[1m0s\u001b[0m 861us/step - accuracy: 0.9206 - loss: 0.2070\n",
      "Epoch 42/100\n",
      "\u001b[1m54/54\u001b[0m \u001b[32m━━━━━━━━━━━━━━━━━━━━\u001b[0m\u001b[37m\u001b[0m \u001b[1m0s\u001b[0m 921us/step - accuracy: 0.9335 - loss: 0.1855\n",
      "Epoch 43/100\n",
      "\u001b[1m54/54\u001b[0m \u001b[32m━━━━━━━━━━━━━━━━━━━━\u001b[0m\u001b[37m\u001b[0m \u001b[1m0s\u001b[0m 870us/step - accuracy: 0.9256 - loss: 0.2071\n",
      "Epoch 44/100\n",
      "\u001b[1m54/54\u001b[0m \u001b[32m━━━━━━━━━━━━━━━━━━━━\u001b[0m\u001b[37m\u001b[0m \u001b[1m0s\u001b[0m 850us/step - accuracy: 0.9177 - loss: 0.2006\n",
      "Epoch 45/100\n",
      "\u001b[1m54/54\u001b[0m \u001b[32m━━━━━━━━━━━━━━━━━━━━\u001b[0m\u001b[37m\u001b[0m \u001b[1m0s\u001b[0m 883us/step - accuracy: 0.9233 - loss: 0.1982\n",
      "Epoch 46/100\n",
      "\u001b[1m54/54\u001b[0m \u001b[32m━━━━━━━━━━━━━━━━━━━━\u001b[0m\u001b[37m\u001b[0m \u001b[1m0s\u001b[0m 904us/step - accuracy: 0.9217 - loss: 0.1982\n",
      "Epoch 47/100\n",
      "\u001b[1m54/54\u001b[0m \u001b[32m━━━━━━━━━━━━━━━━━━━━\u001b[0m\u001b[37m\u001b[0m \u001b[1m0s\u001b[0m 866us/step - accuracy: 0.9255 - loss: 0.1910\n",
      "Epoch 48/100\n",
      "\u001b[1m54/54\u001b[0m \u001b[32m━━━━━━━━━━━━━━━━━━━━\u001b[0m\u001b[37m\u001b[0m \u001b[1m0s\u001b[0m 1ms/step - accuracy: 0.9301 - loss: 0.1806\n",
      "Epoch 49/100\n",
      "\u001b[1m54/54\u001b[0m \u001b[32m━━━━━━━━━━━━━━━━━━━━\u001b[0m\u001b[37m\u001b[0m \u001b[1m0s\u001b[0m 1ms/step - accuracy: 0.9065 - loss: 0.2258  \n",
      "Epoch 50/100\n",
      "\u001b[1m54/54\u001b[0m \u001b[32m━━━━━━━━━━━━━━━━━━━━\u001b[0m\u001b[37m\u001b[0m \u001b[1m0s\u001b[0m 1ms/step - accuracy: 0.9246 - loss: 0.1888  \n",
      "Epoch 51/100\n",
      "\u001b[1m54/54\u001b[0m \u001b[32m━━━━━━━━━━━━━━━━━━━━\u001b[0m\u001b[37m\u001b[0m \u001b[1m0s\u001b[0m 855us/step - accuracy: 0.9228 - loss: 0.1949\n",
      "Epoch 52/100\n",
      "\u001b[1m54/54\u001b[0m \u001b[32m━━━━━━━━━━━━━━━━━━━━\u001b[0m\u001b[37m\u001b[0m \u001b[1m0s\u001b[0m 833us/step - accuracy: 0.9212 - loss: 0.1932\n",
      "Epoch 53/100\n",
      "\u001b[1m54/54\u001b[0m \u001b[32m━━━━━━━━━━━━━━━━━━━━\u001b[0m\u001b[37m\u001b[0m \u001b[1m0s\u001b[0m 840us/step - accuracy: 0.9240 - loss: 0.1903\n",
      "Epoch 54/100\n",
      "\u001b[1m54/54\u001b[0m \u001b[32m━━━━━━━━━━━━━━━━━━━━\u001b[0m\u001b[37m\u001b[0m \u001b[1m0s\u001b[0m 1ms/step - accuracy: 0.9259 - loss: 0.1867\n",
      "Epoch 55/100\n",
      "\u001b[1m54/54\u001b[0m \u001b[32m━━━━━━━━━━━━━━━━━━━━\u001b[0m\u001b[37m\u001b[0m \u001b[1m0s\u001b[0m 1ms/step - accuracy: 0.9383 - loss: 0.1678\n",
      "Epoch 56/100\n",
      "\u001b[1m54/54\u001b[0m \u001b[32m━━━━━━━━━━━━━━━━━━━━\u001b[0m\u001b[37m\u001b[0m \u001b[1m0s\u001b[0m 1ms/step - accuracy: 0.9358 - loss: 0.1754\n",
      "Epoch 57/100\n",
      "\u001b[1m54/54\u001b[0m \u001b[32m━━━━━━━━━━━━━━━━━━━━\u001b[0m\u001b[37m\u001b[0m \u001b[1m0s\u001b[0m 1ms/step - accuracy: 0.9218 - loss: 0.1873\n",
      "Epoch 58/100\n",
      "\u001b[1m54/54\u001b[0m \u001b[32m━━━━━━━━━━━━━━━━━━━━\u001b[0m\u001b[37m\u001b[0m \u001b[1m0s\u001b[0m 1ms/step - accuracy: 0.9210 - loss: 0.2094\n",
      "Epoch 59/100\n",
      "\u001b[1m54/54\u001b[0m \u001b[32m━━━━━━━━━━━━━━━━━━━━\u001b[0m\u001b[37m\u001b[0m \u001b[1m0s\u001b[0m 830us/step - accuracy: 0.9225 - loss: 0.1914\n",
      "Epoch 60/100\n",
      "\u001b[1m54/54\u001b[0m \u001b[32m━━━━━━━━━━━━━━━━━━━━\u001b[0m\u001b[37m\u001b[0m \u001b[1m0s\u001b[0m 844us/step - accuracy: 0.9352 - loss: 0.1783\n",
      "Epoch 61/100\n",
      "\u001b[1m54/54\u001b[0m \u001b[32m━━━━━━━━━━━━━━━━━━━━\u001b[0m\u001b[37m\u001b[0m \u001b[1m0s\u001b[0m 1ms/step - accuracy: 0.9268 - loss: 0.1842\n",
      "Epoch 62/100\n",
      "\u001b[1m54/54\u001b[0m \u001b[32m━━━━━━━━━━━━━━━━━━━━\u001b[0m\u001b[37m\u001b[0m \u001b[1m0s\u001b[0m 848us/step - accuracy: 0.9304 - loss: 0.1832\n",
      "Epoch 63/100\n",
      "\u001b[1m54/54\u001b[0m \u001b[32m━━━━━━━━━━━━━━━━━━━━\u001b[0m\u001b[37m\u001b[0m \u001b[1m0s\u001b[0m 825us/step - accuracy: 0.9290 - loss: 0.1731\n",
      "Epoch 64/100\n",
      "\u001b[1m54/54\u001b[0m \u001b[32m━━━━━━━━━━━━━━━━━━━━\u001b[0m\u001b[37m\u001b[0m \u001b[1m0s\u001b[0m 848us/step - accuracy: 0.9249 - loss: 0.1767\n",
      "Epoch 65/100\n",
      "\u001b[1m54/54\u001b[0m \u001b[32m━━━━━━━━━━━━━━━━━━━━\u001b[0m\u001b[37m\u001b[0m \u001b[1m0s\u001b[0m 929us/step - accuracy: 0.9296 - loss: 0.1757\n",
      "Epoch 66/100\n",
      "\u001b[1m54/54\u001b[0m \u001b[32m━━━━━━━━━━━━━━━━━━━━\u001b[0m\u001b[37m\u001b[0m \u001b[1m0s\u001b[0m 2ms/step - accuracy: 0.9342 - loss: 0.1599\n",
      "Epoch 67/100\n",
      "\u001b[1m54/54\u001b[0m \u001b[32m━━━━━━━━━━━━━━━━━━━━\u001b[0m\u001b[37m\u001b[0m \u001b[1m0s\u001b[0m 1ms/step - accuracy: 0.9244 - loss: 0.1830\n",
      "Epoch 68/100\n",
      "\u001b[1m54/54\u001b[0m \u001b[32m━━━━━━━━━━━━━━━━━━━━\u001b[0m\u001b[37m\u001b[0m \u001b[1m0s\u001b[0m 1ms/step - accuracy: 0.9312 - loss: 0.1739\n",
      "Epoch 69/100\n",
      "\u001b[1m54/54\u001b[0m \u001b[32m━━━━━━━━━━━━━━━━━━━━\u001b[0m\u001b[37m\u001b[0m \u001b[1m0s\u001b[0m 920us/step - accuracy: 0.9351 - loss: 0.1738\n",
      "Epoch 70/100\n",
      "\u001b[1m54/54\u001b[0m \u001b[32m━━━━━━━━━━━━━━━━━━━━\u001b[0m\u001b[37m\u001b[0m \u001b[1m0s\u001b[0m 854us/step - accuracy: 0.9271 - loss: 0.1762\n",
      "Epoch 71/100\n",
      "\u001b[1m54/54\u001b[0m \u001b[32m━━━━━━━━━━━━━━━━━━━━\u001b[0m\u001b[37m\u001b[0m \u001b[1m0s\u001b[0m 839us/step - accuracy: 0.9214 - loss: 0.2006\n",
      "Epoch 72/100\n",
      "\u001b[1m54/54\u001b[0m \u001b[32m━━━━━━━━━━━━━━━━━━━━\u001b[0m\u001b[37m\u001b[0m \u001b[1m0s\u001b[0m 834us/step - accuracy: 0.9238 - loss: 0.1829\n",
      "Epoch 73/100\n",
      "\u001b[1m54/54\u001b[0m \u001b[32m━━━━━━━━━━━━━━━━━━━━\u001b[0m\u001b[37m\u001b[0m \u001b[1m0s\u001b[0m 856us/step - accuracy: 0.9192 - loss: 0.1989\n",
      "Epoch 74/100\n",
      "\u001b[1m54/54\u001b[0m \u001b[32m━━━━━━━━━━━━━━━━━━━━\u001b[0m\u001b[37m\u001b[0m \u001b[1m0s\u001b[0m 857us/step - accuracy: 0.9386 - loss: 0.1636\n",
      "Epoch 75/100\n",
      "\u001b[1m54/54\u001b[0m \u001b[32m━━━━━━━━━━━━━━━━━━━━\u001b[0m\u001b[37m\u001b[0m \u001b[1m0s\u001b[0m 862us/step - accuracy: 0.9408 - loss: 0.1624\n",
      "Epoch 76/100\n",
      "\u001b[1m54/54\u001b[0m \u001b[32m━━━━━━━━━━━━━━━━━━━━\u001b[0m\u001b[37m\u001b[0m \u001b[1m0s\u001b[0m 775us/step - accuracy: 0.9364 - loss: 0.1664\n",
      "Epoch 77/100\n",
      "\u001b[1m54/54\u001b[0m \u001b[32m━━━━━━━━━━━━━━━━━━━━\u001b[0m\u001b[37m\u001b[0m \u001b[1m0s\u001b[0m 760us/step - accuracy: 0.9346 - loss: 0.1695\n",
      "Epoch 78/100\n",
      "\u001b[1m54/54\u001b[0m \u001b[32m━━━━━━━━━━━━━━━━━━━━\u001b[0m\u001b[37m\u001b[0m \u001b[1m0s\u001b[0m 736us/step - accuracy: 0.9403 - loss: 0.1687\n",
      "Epoch 79/100\n",
      "\u001b[1m54/54\u001b[0m \u001b[32m━━━━━━━━━━━━━━━━━━━━\u001b[0m\u001b[37m\u001b[0m \u001b[1m0s\u001b[0m 708us/step - accuracy: 0.9297 - loss: 0.1748\n",
      "Epoch 80/100\n",
      "\u001b[1m54/54\u001b[0m \u001b[32m━━━━━━━━━━━━━━━━━━━━\u001b[0m\u001b[37m\u001b[0m \u001b[1m0s\u001b[0m 726us/step - accuracy: 0.9393 - loss: 0.1548\n",
      "Epoch 81/100\n",
      "\u001b[1m54/54\u001b[0m \u001b[32m━━━━━━━━━━━━━━━━━━━━\u001b[0m\u001b[37m\u001b[0m \u001b[1m0s\u001b[0m 753us/step - accuracy: 0.9338 - loss: 0.1707\n",
      "Epoch 82/100\n",
      "\u001b[1m54/54\u001b[0m \u001b[32m━━━━━━━━━━━━━━━━━━━━\u001b[0m\u001b[37m\u001b[0m \u001b[1m0s\u001b[0m 764us/step - accuracy: 0.9361 - loss: 0.1712\n",
      "Epoch 83/100\n",
      "\u001b[1m54/54\u001b[0m \u001b[32m━━━━━━━━━━━━━━━━━━━━\u001b[0m\u001b[37m\u001b[0m \u001b[1m0s\u001b[0m 738us/step - accuracy: 0.9260 - loss: 0.1922\n",
      "Epoch 84/100\n",
      "\u001b[1m54/54\u001b[0m \u001b[32m━━━━━━━━━━━━━━━━━━━━\u001b[0m\u001b[37m\u001b[0m \u001b[1m0s\u001b[0m 1ms/step - accuracy: 0.9344 - loss: 0.1642  \n",
      "Epoch 85/100\n",
      "\u001b[1m54/54\u001b[0m \u001b[32m━━━━━━━━━━━━━━━━━━━━\u001b[0m\u001b[37m\u001b[0m \u001b[1m0s\u001b[0m 1ms/step - accuracy: 0.9365 - loss: 0.1621  \n",
      "Epoch 86/100\n",
      "\u001b[1m54/54\u001b[0m \u001b[32m━━━━━━━━━━━━━━━━━━━━\u001b[0m\u001b[37m\u001b[0m \u001b[1m0s\u001b[0m 709us/step - accuracy: 0.9409 - loss: 0.1604\n",
      "Epoch 87/100\n",
      "\u001b[1m54/54\u001b[0m \u001b[32m━━━━━━━━━━━━━━━━━━━━\u001b[0m\u001b[37m\u001b[0m \u001b[1m0s\u001b[0m 740us/step - accuracy: 0.9370 - loss: 0.1723\n",
      "Epoch 88/100\n",
      "\u001b[1m54/54\u001b[0m \u001b[32m━━━━━━━━━━━━━━━━━━━━\u001b[0m\u001b[37m\u001b[0m \u001b[1m0s\u001b[0m 716us/step - accuracy: 0.9334 - loss: 0.1665\n",
      "Epoch 89/100\n",
      "\u001b[1m54/54\u001b[0m \u001b[32m━━━━━━━━━━━━━━━━━━━━\u001b[0m\u001b[37m\u001b[0m \u001b[1m0s\u001b[0m 740us/step - accuracy: 0.9321 - loss: 0.1663\n",
      "Epoch 90/100\n",
      "\u001b[1m54/54\u001b[0m \u001b[32m━━━━━━━━━━━━━━━━━━━━\u001b[0m\u001b[37m\u001b[0m \u001b[1m0s\u001b[0m 708us/step - accuracy: 0.9383 - loss: 0.1553\n",
      "Epoch 91/100\n",
      "\u001b[1m54/54\u001b[0m \u001b[32m━━━━━━━━━━━━━━━━━━━━\u001b[0m\u001b[37m\u001b[0m \u001b[1m0s\u001b[0m 753us/step - accuracy: 0.9392 - loss: 0.1612\n",
      "Epoch 92/100\n",
      "\u001b[1m54/54\u001b[0m \u001b[32m━━━━━━━━━━━━━━━━━━━━\u001b[0m\u001b[37m\u001b[0m \u001b[1m0s\u001b[0m 743us/step - accuracy: 0.9408 - loss: 0.1529\n",
      "Epoch 93/100\n",
      "\u001b[1m54/54\u001b[0m \u001b[32m━━━━━━━━━━━━━━━━━━━━\u001b[0m\u001b[37m\u001b[0m \u001b[1m0s\u001b[0m 753us/step - accuracy: 0.9396 - loss: 0.1674\n",
      "Epoch 94/100\n",
      "\u001b[1m54/54\u001b[0m \u001b[32m━━━━━━━━━━━━━━━━━━━━\u001b[0m\u001b[37m\u001b[0m \u001b[1m0s\u001b[0m 717us/step - accuracy: 0.9421 - loss: 0.1541\n",
      "Epoch 95/100\n",
      "\u001b[1m54/54\u001b[0m \u001b[32m━━━━━━━━━━━━━━━━━━━━\u001b[0m\u001b[37m\u001b[0m \u001b[1m0s\u001b[0m 741us/step - accuracy: 0.9428 - loss: 0.1581\n",
      "Epoch 96/100\n",
      "\u001b[1m54/54\u001b[0m \u001b[32m━━━━━━━━━━━━━━━━━━━━\u001b[0m\u001b[37m\u001b[0m \u001b[1m0s\u001b[0m 700us/step - accuracy: 0.9389 - loss: 0.1594\n",
      "Epoch 97/100\n",
      "\u001b[1m54/54\u001b[0m \u001b[32m━━━━━━━━━━━━━━━━━━━━\u001b[0m\u001b[37m\u001b[0m \u001b[1m0s\u001b[0m 743us/step - accuracy: 0.9317 - loss: 0.1662\n",
      "Epoch 98/100\n",
      "\u001b[1m54/54\u001b[0m \u001b[32m━━━━━━━━━━━━━━━━━━━━\u001b[0m\u001b[37m\u001b[0m \u001b[1m0s\u001b[0m 717us/step - accuracy: 0.9436 - loss: 0.1404\n",
      "Epoch 99/100\n",
      "\u001b[1m54/54\u001b[0m \u001b[32m━━━━━━━━━━━━━━━━━━━━\u001b[0m\u001b[37m\u001b[0m \u001b[1m0s\u001b[0m 757us/step - accuracy: 0.9533 - loss: 0.1415\n",
      "Epoch 100/100\n",
      "\u001b[1m54/54\u001b[0m \u001b[32m━━━━━━━━━━━━━━━━━━━━\u001b[0m\u001b[37m\u001b[0m \u001b[1m0s\u001b[0m 717us/step - accuracy: 0.9518 - loss: 0.1444\n"
     ]
    }
   ],
   "source": [
    "# Train the model\n",
    "fit_model = nn.fit(X_train_scaled, y_train, epochs=100)"
   ]
  },
  {
   "cell_type": "code",
   "execution_count": 33,
   "metadata": {},
   "outputs": [
    {
     "name": "stdout",
     "output_type": "stream",
     "text": [
      "\u001b[1m54/54\u001b[0m \u001b[32m━━━━━━━━━━━━━━━━━━━━\u001b[0m\u001b[37m\u001b[0m \u001b[1m0s\u001b[0m 1ms/step\n",
      "\u001b[1m14/14\u001b[0m \u001b[32m━━━━━━━━━━━━━━━━━━━━\u001b[0m\u001b[37m\u001b[0m \u001b[1m0s\u001b[0m 818us/step\n",
      "Metrics for Nural Network model_2: \n",
      "acc train: 0.94, acc test: 0.87, precision: 0.81, recall: 0.71\n"
     ]
    }
   ],
   "source": [
    "# Evaluate the model using the function to calculate different metrics for this model\n",
    "# Create predictions using the testing data\n",
    "y_pred_train = nn.predict(X_train_scaled)>0.5\n",
    "y_pred_test = nn.predict(X_test_scaled)>0.5\n",
    "\n",
    "# Calling the function to calculate the metrics\n",
    "print(f\"Metrics for Nural Network model_2: \")\n",
    "acc_train_nn, acc_test_nn, p_nn, r_nn = calculate_metrics(y_train, y_test, y_pred_train, y_pred_test)"
   ]
  },
  {
   "cell_type": "code",
   "execution_count": 34,
   "metadata": {},
   "outputs": [
    {
     "name": "stdout",
     "output_type": "stream",
     "text": [
      "14/14 - 0s - 7ms/step - accuracy: 0.8715 - loss: 0.2849\n",
      "Loss: 0.2849269211292267, Accuracy: 0.8714953064918518\n"
     ]
    }
   ],
   "source": [
    "# Evaluate the model using the test data\n",
    "model_loss, model_accuracy = nn.evaluate(X_test_scaled,y_test,verbose=2)\n",
    "print(f\"Loss: {model_loss}, Accuracy: {model_accuracy}\")"
   ]
  },
  {
   "cell_type": "markdown",
   "metadata": {},
   "source": [
    "## Model 4_3: Deep Neural Networks(DNN)"
   ]
  },
  {
   "cell_type": "markdown",
   "metadata": {},
   "source": [
    "Attempt 2: Optimising the structure using the Keras Tuner\n",
    "\n",
    "* Allow activation function to choose between relu, sigmoid, tanh\n",
    " *  sigmoid is still the only option for the final layer\n",
    "* Allow number of neurons to vary from 6 to ~75\n",
    "* Allow for 1, 2, or 3 extra hidden layers (not input or output)\n"
   ]
  },
  {
   "cell_type": "code",
   "execution_count": 35,
   "metadata": {},
   "outputs": [
    {
     "name": "stdout",
     "output_type": "stream",
     "text": [
      "Features: 23\n"
     ]
    }
   ],
   "source": [
    "import keras_tuner as kt\n",
    "\n",
    "NUM_FEATURES = X_train.shape[1]\n",
    "print(\"Features:\", NUM_FEATURES)\n",
    "\n",
    "def create_model(hp: kt.HyperParameters) -> tf.keras.models.Sequential:\n",
    "    model = tf.keras.models.Sequential()\n",
    "\n",
    "    # Allow kerastuner to decide which activation function to use in hidden layers\n",
    "    activation = hp.Choice(\"activation\", [\"relu\", \"sigmoid\", \"tanh\"])\n",
    "\n",
    "    # Allow kerastuner to decide number of neurons in first layer\n",
    "    model.add(tf.keras.layers.Dense(units=hp.Int(\"first_units\", 6, NUM_FEATURES*2, step=6),\n",
    "                                    activation=activation,\n",
    "                                    input_dim=NUM_FEATURES))\n",
    "    \n",
    "    # Allow kerastuner to decide number of hidden layers and neurons in hidden layers\n",
    "    for i in range(hp.Int(\"num_layers\", 1, 3)):\n",
    "        model.add(tf.keras.layers.Dense(units=hp.Int('units_' + str(i),\n",
    "                                                     6, NUM_FEATURES*2, step=6),\n",
    "                                        activation=activation))\n",
    "    # output layer\n",
    "    model.add(tf.keras.layers.Dense(units=1, activation=\"sigmoid\"))\n",
    "\n",
    "    # Compile the model\n",
    "    model.compile(loss=\"binary_crossentropy\",\n",
    "                  optimizer='adam',\n",
    "                  metrics=[\"accuracy\"])\n",
    "    return model\n",
    "\n",
    "tuner = kt.Hyperband(create_model,\n",
    "                     objective=\"val_accuracy\",\n",
    "                     max_epochs=25,\n",
    "                     overwrite=True,\n",
    "                     hyperband_iterations=2)"
   ]
  },
  {
   "cell_type": "code",
   "execution_count": 36,
   "metadata": {},
   "outputs": [
    {
     "name": "stdout",
     "output_type": "stream",
     "text": [
      "Trial 60 Complete [00h 00m 05s]\n",
      "val_accuracy: 0.8831775784492493\n",
      "\n",
      "Best val_accuracy So Far: 0.9042056202888489\n",
      "Total elapsed time: 00h 02m 47s\n"
     ]
    }
   ],
   "source": [
    "# Run the kerastuner search for best hyperparameters\n",
    "tuner.search(X_train_scaled,\n",
    "             y_train,\n",
    "             epochs=25,\n",
    "             validation_data=(X_test_scaled, y_test))"
   ]
  },
  {
   "cell_type": "code",
   "execution_count": 37,
   "metadata": {},
   "outputs": [
    {
     "name": "stdout",
     "output_type": "stream",
     "text": [
      "{'activation': 'tanh', 'first_units': 36, 'num_layers': 2, 'units_0': 24, 'units_1': 30, 'units_2': 30, 'tuner/epochs': 25, 'tuner/initial_epoch': 9, 'tuner/bracket': 1, 'tuner/round': 1, 'tuner/trial_id': '0021'}\n",
      "{'activation': 'tanh', 'first_units': 18, 'num_layers': 3, 'units_0': 42, 'units_1': 24, 'units_2': 42, 'tuner/epochs': 25, 'tuner/initial_epoch': 9, 'tuner/bracket': 2, 'tuner/round': 2, 'tuner/trial_id': '0043'}\n",
      "{'activation': 'relu', 'first_units': 24, 'num_layers': 1, 'units_0': 12, 'units_1': 42, 'units_2': 42, 'tuner/epochs': 25, 'tuner/initial_epoch': 0, 'tuner/bracket': 0, 'tuner/round': 0}\n",
      "14/14 - 0s - 12ms/step - accuracy: 0.9042 - loss: 0.2567\n",
      "Loss: 0.25672826170921326, Accuracy: 0.9042056202888489\n",
      "14/14 - 0s - 12ms/step - accuracy: 0.9042 - loss: 0.2541\n",
      "Loss: 0.25407958030700684, Accuracy: 0.9042056202888489\n",
      "14/14 - 0s - 15ms/step - accuracy: 0.9019 - loss: 0.2648\n",
      "Loss: 0.26477691531181335, Accuracy: 0.9018691778182983\n"
     ]
    }
   ],
   "source": [
    "# Get top 3 model hyperparameters and print the values\n",
    "top_3_hp = tuner.get_best_hyperparameters(3)\n",
    "for hparam in top_3_hp:\n",
    "    print(hparam.values)\n",
    "\n",
    "# Evaluate the top 3 models against the test dataset\n",
    "top_3_model = tuner.get_best_models(3)\n",
    "for model in top_3_model:\n",
    "    model_loss, model_accuracy = model.evaluate(X_test_scaled, y_test, verbose=2)\n",
    "    print(f\"Loss: {model_loss}, Accuracy: {model_accuracy}\")"
   ]
  },
  {
   "cell_type": "code",
   "execution_count": 38,
   "metadata": {},
   "outputs": [
    {
     "name": "stdout",
     "output_type": "stream",
     "text": [
      "14/14 - 0s - 13ms/step - accuracy: 0.9042 - loss: 0.2567\n",
      "Loss: 0.25672826170921326, Accuracy: 0.9042056202888489\n"
     ]
    }
   ],
   "source": [
    "best_tuned_model = tuner.get_best_models(1)[0]\n",
    "# Evaluate the model using the test data\n",
    "model_loss2, model_accuracy2 = best_tuned_model.evaluate(X_test_scaled, y_test, verbose=2)\n",
    "print(f\"Loss: {model_loss2}, Accuracy: {model_accuracy2}\")"
   ]
  },
  {
   "cell_type": "code",
   "execution_count": 39,
   "metadata": {},
   "outputs": [
    {
     "name": "stdout",
     "output_type": "stream",
     "text": [
      "Epoch 1/25\n",
      "54/54 - 1s - 18ms/step - accuracy: 0.7639 - loss: 0.5573\n",
      "Epoch 2/25\n",
      "54/54 - 0s - 1ms/step - accuracy: 0.7849 - loss: 0.4495\n",
      "Epoch 3/25\n",
      "54/54 - 0s - 1ms/step - accuracy: 0.8375 - loss: 0.3818\n",
      "Epoch 4/25\n",
      "54/54 - 0s - 3ms/step - accuracy: 0.8574 - loss: 0.3431\n",
      "Epoch 5/25\n",
      "54/54 - 0s - 1ms/step - accuracy: 0.8667 - loss: 0.3202\n",
      "Epoch 6/25\n",
      "54/54 - 0s - 1ms/step - accuracy: 0.8778 - loss: 0.3029\n",
      "Epoch 7/25\n",
      "54/54 - 0s - 3ms/step - accuracy: 0.8860 - loss: 0.2876\n",
      "Epoch 8/25\n",
      "54/54 - 0s - 1ms/step - accuracy: 0.8884 - loss: 0.2737\n",
      "Epoch 9/25\n",
      "54/54 - 0s - 2ms/step - accuracy: 0.8960 - loss: 0.2607\n",
      "Epoch 10/25\n",
      "54/54 - 0s - 1ms/step - accuracy: 0.8995 - loss: 0.2495\n",
      "Epoch 11/25\n",
      "54/54 - 0s - 1ms/step - accuracy: 0.9041 - loss: 0.2374\n",
      "Epoch 12/25\n",
      "54/54 - 0s - 1ms/step - accuracy: 0.9094 - loss: 0.2270\n",
      "Epoch 13/25\n",
      "54/54 - 0s - 1ms/step - accuracy: 0.9147 - loss: 0.2179\n",
      "Epoch 14/25\n",
      "54/54 - 0s - 1ms/step - accuracy: 0.9176 - loss: 0.2102\n",
      "Epoch 15/25\n",
      "54/54 - 0s - 1ms/step - accuracy: 0.9199 - loss: 0.2021\n",
      "Epoch 16/25\n",
      "54/54 - 0s - 1ms/step - accuracy: 0.9193 - loss: 0.1954\n",
      "Epoch 17/25\n",
      "54/54 - 0s - 1ms/step - accuracy: 0.9252 - loss: 0.1890\n",
      "Epoch 18/25\n",
      "54/54 - 0s - 1ms/step - accuracy: 0.9234 - loss: 0.1820\n",
      "Epoch 19/25\n",
      "54/54 - 0s - 1ms/step - accuracy: 0.9299 - loss: 0.1759\n",
      "Epoch 20/25\n",
      "54/54 - 0s - 1ms/step - accuracy: 0.9340 - loss: 0.1715\n",
      "Epoch 21/25\n",
      "54/54 - 0s - 1ms/step - accuracy: 0.9322 - loss: 0.1687\n",
      "Epoch 22/25\n",
      "54/54 - 0s - 1ms/step - accuracy: 0.9369 - loss: 0.1641\n",
      "Epoch 23/25\n",
      "54/54 - 0s - 1ms/step - accuracy: 0.9363 - loss: 0.1587\n",
      "Epoch 24/25\n",
      "54/54 - 0s - 1ms/step - accuracy: 0.9427 - loss: 0.1521\n",
      "Epoch 25/25\n",
      "54/54 - 0s - 1ms/step - accuracy: 0.9398 - loss: 0.1515\n",
      "14/14 - 0s - 7ms/step - accuracy: 0.8925 - loss: 0.2828\n",
      "Loss: 0.28284284472465515, Accuracy: 0.8925233483314514\n"
     ]
    }
   ],
   "source": [
    "# Define the best model offered by Keras Tuner\n",
    "input_features = X_train_scaled.shape[1]\n",
    "best_model = tf.keras.models.Sequential()\n",
    "\n",
    "# Add the first hidden layer\n",
    "best_model.add(tf.keras.layers.Dense(units=30, activation='relu', input_dim=input_features))\n",
    "\n",
    "# Add the second hidden layer\n",
    "best_model.add(tf.keras.layers.Dense(units=12, activation='relu'))\n",
    "\n",
    "# Add the third hidden layer\n",
    "best_model.add(tf.keras.layers.Dense(units=24, activation='relu'))\n",
    "\n",
    "# Add the output layer\n",
    "best_model.add(tf.keras.layers.Dense(units=1, activation='sigmoid'))\n",
    "\n",
    "# Compile the model\n",
    "best_model.compile(loss='binary_crossentropy', optimizer='adam', metrics=['accuracy'])\n",
    "\n",
    "# Train the model with appropriate number of epochs and batch size\n",
    "history = best_model.fit(X_train_scaled, y_train, epochs=25, batch_size=32, verbose=2)\n",
    "\n",
    "# Evaluate the model on the test dataset\n",
    "model_loss, model_accuracy = best_model.evaluate(X_test_scaled, y_test, verbose=2)\n",
    "print(f\"Loss: {model_loss}, Accuracy: {model_accuracy}\")"
   ]
  },
  {
   "cell_type": "code",
   "execution_count": 40,
   "metadata": {},
   "outputs": [
    {
     "name": "stdout",
     "output_type": "stream",
     "text": [
      "\u001b[1m54/54\u001b[0m \u001b[32m━━━━━━━━━━━━━━━━━━━━\u001b[0m\u001b[37m\u001b[0m \u001b[1m0s\u001b[0m 1ms/step\n",
      "\u001b[1m14/14\u001b[0m \u001b[32m━━━━━━━━━━━━━━━━━━━━\u001b[0m\u001b[37m\u001b[0m \u001b[1m0s\u001b[0m 872us/step\n",
      "Metrics for Nural Network model_3: \n",
      "acc train: 0.95, acc test: 0.89, precision: 0.82, recall: 0.78\n"
     ]
    }
   ],
   "source": [
    "# Evaluate the model using the function to calculate different metrics for this model\n",
    "# Create predictions using the testing data\n",
    "y_pred_train = best_model.predict(X_train_scaled)>0.5\n",
    "y_pred_test = best_model.predict(X_test_scaled)>0.5\n",
    "\n",
    "# Calling the function to calculate the metrics\n",
    "print(f\"Metrics for Nural Network model_3: \")\n",
    "acc_train_best_model, acc_test_best_model, p_best_model, r_best_model = calculate_metrics(y_train, y_test, y_pred_train, y_pred_test)"
   ]
  },
  {
   "cell_type": "markdown",
   "metadata": {},
   "source": [
    "## Model 4_4: Deep Neural Networks(DNN)"
   ]
  },
  {
   "cell_type": "markdown",
   "metadata": {},
   "source": [
    "In this attempt, we will keep the 7 first important features according to the horizontal bar chart plotted in the Random Forest model."
   ]
  },
  {
   "cell_type": "code",
   "execution_count": 41,
   "metadata": {},
   "outputs": [
    {
     "data": {
      "text/html": [
       "<div>\n",
       "<style scoped>\n",
       "    .dataframe tbody tr th:only-of-type {\n",
       "        vertical-align: middle;\n",
       "    }\n",
       "\n",
       "    .dataframe tbody tr th {\n",
       "        vertical-align: top;\n",
       "    }\n",
       "\n",
       "    .dataframe thead th {\n",
       "        text-align: right;\n",
       "    }\n",
       "</style>\n",
       "<table border=\"1\" class=\"dataframe\">\n",
       "  <thead>\n",
       "    <tr style=\"text-align: right;\">\n",
       "      <th></th>\n",
       "      <th>off_treatment</th>\n",
       "      <th>time</th>\n",
       "      <th>age</th>\n",
       "      <th>weight</th>\n",
       "      <th>prior_ART_length</th>\n",
       "      <th>cd4_base</th>\n",
       "      <th>cd4_20wks</th>\n",
       "      <th>infected</th>\n",
       "    </tr>\n",
       "  </thead>\n",
       "  <tbody>\n",
       "    <tr>\n",
       "      <th>0</th>\n",
       "      <td>0</td>\n",
       "      <td>948</td>\n",
       "      <td>48</td>\n",
       "      <td>89.8128</td>\n",
       "      <td>0</td>\n",
       "      <td>422</td>\n",
       "      <td>477</td>\n",
       "      <td>0</td>\n",
       "    </tr>\n",
       "    <tr>\n",
       "      <th>1</th>\n",
       "      <td>0</td>\n",
       "      <td>1002</td>\n",
       "      <td>61</td>\n",
       "      <td>49.4424</td>\n",
       "      <td>895</td>\n",
       "      <td>162</td>\n",
       "      <td>218</td>\n",
       "      <td>1</td>\n",
       "    </tr>\n",
       "    <tr>\n",
       "      <th>2</th>\n",
       "      <td>1</td>\n",
       "      <td>961</td>\n",
       "      <td>45</td>\n",
       "      <td>88.4520</td>\n",
       "      <td>707</td>\n",
       "      <td>326</td>\n",
       "      <td>274</td>\n",
       "      <td>0</td>\n",
       "    </tr>\n",
       "    <tr>\n",
       "      <th>3</th>\n",
       "      <td>0</td>\n",
       "      <td>1166</td>\n",
       "      <td>47</td>\n",
       "      <td>85.2768</td>\n",
       "      <td>1399</td>\n",
       "      <td>287</td>\n",
       "      <td>394</td>\n",
       "      <td>0</td>\n",
       "    </tr>\n",
       "    <tr>\n",
       "      <th>4</th>\n",
       "      <td>0</td>\n",
       "      <td>1090</td>\n",
       "      <td>43</td>\n",
       "      <td>66.6792</td>\n",
       "      <td>1352</td>\n",
       "      <td>504</td>\n",
       "      <td>353</td>\n",
       "      <td>0</td>\n",
       "    </tr>\n",
       "  </tbody>\n",
       "</table>\n",
       "</div>"
      ],
      "text/plain": [
       "   off_treatment  time  age   weight  prior_ART_length  cd4_base  cd4_20wks  \\\n",
       "0              0   948   48  89.8128                 0       422        477   \n",
       "1              0  1002   61  49.4424               895       162        218   \n",
       "2              1   961   45  88.4520               707       326        274   \n",
       "3              0  1166   47  85.2768              1399       287        394   \n",
       "4              0  1090   43  66.6792              1352       504        353   \n",
       "\n",
       "   infected  \n",
       "0         0  \n",
       "1         1  \n",
       "2         0  \n",
       "3         0  \n",
       "4         0  "
      ]
     },
     "execution_count": 41,
     "metadata": {},
     "output_type": "execute_result"
    }
   ],
   "source": [
    "# Drop the columns with lower importance according to the Random Forest \"Feature Importance bar chart\".\n",
    "new_AIDS_df = AIDS_df.drop(['ID', 'cd8_base', 'cd8_20wks', 'treatment', 'ZDV_only_treatment', 'hemophilia', 'homosexual_activity', 'drugs', 'race',\n",
    "       'gender', 'karnofsky_score', 'therapy_prior', 'ZDV_last_30days',\n",
    "       'ART_history', 'ART_history_stratified', 'symptom'], axis = 1)\n",
    "new_AIDS_df.head()"
   ]
  },
  {
   "cell_type": "code",
   "execution_count": 42,
   "metadata": {},
   "outputs": [
    {
     "data": {
      "text/plain": [
       "Index(['off_treatment', 'time', 'age', 'weight', 'prior_ART_length',\n",
       "       'cd4_base', 'cd4_20wks', 'infected'],\n",
       "      dtype='object')"
      ]
     },
     "execution_count": 42,
     "metadata": {},
     "output_type": "execute_result"
    }
   ],
   "source": [
    "new_AIDS_df.columns"
   ]
  },
  {
   "cell_type": "code",
   "execution_count": 43,
   "metadata": {},
   "outputs": [],
   "source": [
    "# Split our preprocessed data into our features and target arrays\n",
    "y = new_AIDS_df['infected'].ravel()\n",
    "x = new_AIDS_df.drop(columns='infected')\n",
    "\n",
    "# Split the preprocessed data into a training and testing dataset\n",
    "X_train, X_test, y_train, y_test = train_test_split(x, y,test_size=0.2, random_state=1)"
   ]
  },
  {
   "cell_type": "code",
   "execution_count": 44,
   "metadata": {},
   "outputs": [
    {
     "name": "stdout",
     "output_type": "stream",
     "text": [
      "Feature=> train: (1711, 7) - test: (428, 7)\n",
      "Label=> train: (1711,) - test: (428,)\n"
     ]
    }
   ],
   "source": [
    "# print the number and shape of train and test data\n",
    "print(f\"Feature=> train: {X_train.shape} - test: {X_test.shape}\")\n",
    "print(f\"Label=> train: {y_train.shape} - test: {y_test.shape}\")"
   ]
  },
  {
   "cell_type": "code",
   "execution_count": 45,
   "metadata": {},
   "outputs": [],
   "source": [
    "# Create a StandardScaler instances\n",
    "scaler = StandardScaler()\n",
    "\n",
    "# Fit the StandardScaler\n",
    "X_scaler = scaler.fit(X_train)\n",
    "\n",
    "# Scale the data\n",
    "X_train_scaled = X_scaler.transform(X_train)\n",
    "X_test_scaled = X_scaler.transform(X_test)"
   ]
  },
  {
   "cell_type": "code",
   "execution_count": 46,
   "metadata": {},
   "outputs": [
    {
     "name": "stdout",
     "output_type": "stream",
     "text": [
      "Epoch 1/25\n",
      "54/54 - 1s - 17ms/step - accuracy: 0.7604 - loss: 0.5646\n",
      "Epoch 2/25\n",
      "54/54 - 0s - 1ms/step - accuracy: 0.7820 - loss: 0.4384\n",
      "Epoch 3/25\n",
      "54/54 - 0s - 1ms/step - accuracy: 0.8387 - loss: 0.3699\n",
      "Epoch 4/25\n",
      "54/54 - 0s - 1ms/step - accuracy: 0.8656 - loss: 0.3275\n",
      "Epoch 5/25\n",
      "54/54 - 0s - 1ms/step - accuracy: 0.8703 - loss: 0.3023\n",
      "Epoch 6/25\n",
      "54/54 - 0s - 1ms/step - accuracy: 0.8761 - loss: 0.2860\n",
      "Epoch 7/25\n",
      "54/54 - 0s - 1ms/step - accuracy: 0.8825 - loss: 0.2735\n",
      "Epoch 8/25\n",
      "54/54 - 0s - 1ms/step - accuracy: 0.8843 - loss: 0.2627\n",
      "Epoch 9/25\n",
      "54/54 - 0s - 1ms/step - accuracy: 0.8925 - loss: 0.2553\n",
      "Epoch 10/25\n",
      "54/54 - 0s - 1ms/step - accuracy: 0.8913 - loss: 0.2506\n",
      "Epoch 11/25\n",
      "54/54 - 0s - 1ms/step - accuracy: 0.8925 - loss: 0.2449\n",
      "Epoch 12/25\n",
      "54/54 - 0s - 1ms/step - accuracy: 0.8942 - loss: 0.2417\n",
      "Epoch 13/25\n",
      "54/54 - 0s - 1ms/step - accuracy: 0.8954 - loss: 0.2392\n",
      "Epoch 14/25\n",
      "54/54 - 0s - 979us/step - accuracy: 0.8971 - loss: 0.2365\n",
      "Epoch 15/25\n",
      "54/54 - 0s - 966us/step - accuracy: 0.8983 - loss: 0.2352\n",
      "Epoch 16/25\n",
      "54/54 - 0s - 1ms/step - accuracy: 0.8966 - loss: 0.2345\n",
      "Epoch 17/25\n",
      "54/54 - 0s - 974us/step - accuracy: 0.8983 - loss: 0.2325\n",
      "Epoch 18/25\n",
      "54/54 - 0s - 986us/step - accuracy: 0.8971 - loss: 0.2320\n",
      "Epoch 19/25\n",
      "54/54 - 0s - 995us/step - accuracy: 0.8977 - loss: 0.2321\n",
      "Epoch 20/25\n",
      "54/54 - 0s - 1ms/step - accuracy: 0.8971 - loss: 0.2301\n",
      "Epoch 21/25\n",
      "54/54 - 0s - 1ms/step - accuracy: 0.9036 - loss: 0.2267\n",
      "Epoch 22/25\n",
      "54/54 - 0s - 1ms/step - accuracy: 0.8995 - loss: 0.2279\n",
      "Epoch 23/25\n",
      "54/54 - 0s - 2ms/step - accuracy: 0.8989 - loss: 0.2334\n",
      "Epoch 24/25\n",
      "54/54 - 0s - 1ms/step - accuracy: 0.8995 - loss: 0.2260\n",
      "Epoch 25/25\n",
      "54/54 - 0s - 2ms/step - accuracy: 0.8983 - loss: 0.2240\n",
      "14/14 - 0s - 7ms/step - accuracy: 0.8902 - loss: 0.2561\n",
      "Loss: 0.25610390305519104, Accuracy: 0.8901869058609009\n"
     ]
    }
   ],
   "source": [
    "# Define the best model offered by Keras Tuner in previous model but with new DataFrame\n",
    "input_features = X_train_scaled.shape[1]\n",
    "best_model = tf.keras.models.Sequential()\n",
    "\n",
    "# Add the first hidden layer\n",
    "best_model.add(tf.keras.layers.Dense(units=30, activation='relu', input_dim=input_features))\n",
    "\n",
    "# Add the second hidden layer\n",
    "best_model.add(tf.keras.layers.Dense(units=12, activation='relu'))\n",
    "\n",
    "# Add the third hidden layer\n",
    "best_model.add(tf.keras.layers.Dense(units=24, activation='relu'))\n",
    "\n",
    "# Add the output layer\n",
    "best_model.add(tf.keras.layers.Dense(units=1, activation='sigmoid'))\n",
    "\n",
    "# Compile the model\n",
    "best_model.compile(loss='binary_crossentropy', optimizer='adam', metrics=['accuracy'])\n",
    "\n",
    "# Train the model with appropriate number of epochs and batch size\n",
    "history = best_model.fit(X_train_scaled, y_train, epochs=25, batch_size=32, verbose=2)\n",
    "\n",
    "# Evaluate the model on the test dataset\n",
    "model_loss, model_accuracy = best_model.evaluate(X_test_scaled, y_test, verbose=2)\n",
    "print(f\"Loss: {model_loss}, Accuracy: {model_accuracy}\")"
   ]
  },
  {
   "cell_type": "code",
   "execution_count": 47,
   "metadata": {},
   "outputs": [
    {
     "name": "stdout",
     "output_type": "stream",
     "text": [
      "\u001b[1m54/54\u001b[0m \u001b[32m━━━━━━━━━━━━━━━━━━━━\u001b[0m\u001b[37m\u001b[0m \u001b[1m0s\u001b[0m 1ms/step\n",
      "\u001b[1m14/14\u001b[0m \u001b[32m━━━━━━━━━━━━━━━━━━━━\u001b[0m\u001b[37m\u001b[0m \u001b[1m0s\u001b[0m 839us/step\n",
      "Metrics for Nural Network model_4: \n",
      "acc train: 0.9, acc test: 0.89, precision: 0.86, recall: 0.72\n"
     ]
    }
   ],
   "source": [
    "# Evaluate the model using the function to calculate different metrics for this model\n",
    "# Create predictions using the testing data\n",
    "y_pred_train = best_model.predict(X_train_scaled)>0.5\n",
    "y_pred_test = best_model.predict(X_test_scaled)>0.5\n",
    "\n",
    "# Calling the function to calculate the metrics\n",
    "print(f\"Metrics for Nural Network model_4: \")\n",
    "acc_train_best_model_4, acc_test_best_model_4, p_best_model_4, r_best_model_4 = calculate_metrics(y_train, y_test, y_pred_train, y_pred_test)"
   ]
  },
  {
   "cell_type": "markdown",
   "metadata": {},
   "source": [
    "## Model 5: RandomForest Model"
   ]
  },
  {
   "cell_type": "code",
   "execution_count": 48,
   "metadata": {},
   "outputs": [],
   "source": [
    "import numpy as np\n",
    "import plotly.express as px\n",
    "from sklearn.ensemble import RandomForestClassifier\n",
    "from sklearn.compose import ColumnTransformer\n",
    "from sklearn.preprocessing import FunctionTransformer\n",
    "from sklearn.pipeline import FeatureUnion\n",
    "from sklearn.model_selection import train_test_split\n",
    "from sklearn.ensemble import RandomForestClassifier\n",
    "from sklearn.metrics import accuracy_score, precision_score, recall_score, f1_score, classification_report, confusion_matrix"
   ]
  },
  {
   "cell_type": "markdown",
   "metadata": {},
   "source": [
    "### Create rf_df DataFrame and Add Columns 'cd4_propdif' and 'cd4_numerical_change'"
   ]
  },
  {
   "cell_type": "code",
   "execution_count": 49,
   "metadata": {},
   "outputs": [
    {
     "data": {
      "text/html": [
       "<div>\n",
       "<style scoped>\n",
       "    .dataframe tbody tr th:only-of-type {\n",
       "        vertical-align: middle;\n",
       "    }\n",
       "\n",
       "    .dataframe tbody tr th {\n",
       "        vertical-align: top;\n",
       "    }\n",
       "\n",
       "    .dataframe thead th {\n",
       "        text-align: right;\n",
       "    }\n",
       "</style>\n",
       "<table border=\"1\" class=\"dataframe\">\n",
       "  <thead>\n",
       "    <tr style=\"text-align: right;\">\n",
       "      <th></th>\n",
       "      <th>time</th>\n",
       "      <th>age</th>\n",
       "      <th>weight</th>\n",
       "      <th>cd4_base</th>\n",
       "      <th>cd4_20wks</th>\n",
       "      <th>cd4_propdif</th>\n",
       "      <th>cd4_numerical_change</th>\n",
       "    </tr>\n",
       "  </thead>\n",
       "  <tbody>\n",
       "    <tr>\n",
       "      <th>0</th>\n",
       "      <td>948</td>\n",
       "      <td>48</td>\n",
       "      <td>89.8128</td>\n",
       "      <td>422</td>\n",
       "      <td>477</td>\n",
       "      <td>0.130332</td>\n",
       "      <td>55</td>\n",
       "    </tr>\n",
       "    <tr>\n",
       "      <th>1</th>\n",
       "      <td>1002</td>\n",
       "      <td>61</td>\n",
       "      <td>49.4424</td>\n",
       "      <td>162</td>\n",
       "      <td>218</td>\n",
       "      <td>0.345679</td>\n",
       "      <td>56</td>\n",
       "    </tr>\n",
       "    <tr>\n",
       "      <th>2</th>\n",
       "      <td>961</td>\n",
       "      <td>45</td>\n",
       "      <td>88.4520</td>\n",
       "      <td>326</td>\n",
       "      <td>274</td>\n",
       "      <td>-0.159509</td>\n",
       "      <td>-52</td>\n",
       "    </tr>\n",
       "    <tr>\n",
       "      <th>3</th>\n",
       "      <td>1166</td>\n",
       "      <td>47</td>\n",
       "      <td>85.2768</td>\n",
       "      <td>287</td>\n",
       "      <td>394</td>\n",
       "      <td>0.372822</td>\n",
       "      <td>107</td>\n",
       "    </tr>\n",
       "    <tr>\n",
       "      <th>4</th>\n",
       "      <td>1090</td>\n",
       "      <td>43</td>\n",
       "      <td>66.6792</td>\n",
       "      <td>504</td>\n",
       "      <td>353</td>\n",
       "      <td>-0.299603</td>\n",
       "      <td>-151</td>\n",
       "    </tr>\n",
       "  </tbody>\n",
       "</table>\n",
       "</div>"
      ],
      "text/plain": [
       "   time  age   weight  cd4_base  cd4_20wks  cd4_propdif  cd4_numerical_change\n",
       "0   948   48  89.8128       422        477     0.130332                    55\n",
       "1  1002   61  49.4424       162        218     0.345679                    56\n",
       "2   961   45  88.4520       326        274    -0.159509                   -52\n",
       "3  1166   47  85.2768       287        394     0.372822                   107\n",
       "4  1090   43  66.6792       504        353    -0.299603                  -151"
      ]
     },
     "execution_count": 49,
     "metadata": {},
     "output_type": "execute_result"
    }
   ],
   "source": [
    "# Calculate proportional differences in CD4 count\n",
    "rf_df = AIDS_df\n",
    "rf_df['cd4_propdif'] = (AIDS_df['cd4_20wks'] - AIDS_df['cd4_base']) / AIDS_df['cd4_base']\n",
    "rf_df['cd4_numerical_change'] = (AIDS_df['cd4_20wks'] - AIDS_df['cd4_base'])\n",
    "\n",
    "# Display the DataFrame to verify the changes\n",
    "\n",
    "selected_columns = rf_df[['time', 'age', 'weight', 'cd4_base', 'cd4_20wks', 'cd4_propdif', 'cd4_numerical_change']]\n",
    "\n",
    "#print\n",
    "selected_columns.head()"
   ]
  },
  {
   "cell_type": "code",
   "execution_count": 50,
   "metadata": {},
   "outputs": [
    {
     "name": "stdout",
     "output_type": "stream",
     "text": [
      "<class 'pandas.core.frame.DataFrame'>\n",
      "RangeIndex: 2139 entries, 0 to 2138\n",
      "Data columns (total 26 columns):\n",
      " #   Column                  Non-Null Count  Dtype  \n",
      "---  ------                  --------------  -----  \n",
      " 0   ID                      2139 non-null   int64  \n",
      " 1   treatment               2139 non-null   int64  \n",
      " 2   ZDV_only_treatment      2139 non-null   int64  \n",
      " 3   off_treatment           2139 non-null   int64  \n",
      " 4   time                    2139 non-null   int64  \n",
      " 5   age                     2139 non-null   int64  \n",
      " 6   weight                  2139 non-null   float64\n",
      " 7   hemophilia              2139 non-null   int64  \n",
      " 8   homosexual_activity     2139 non-null   int64  \n",
      " 9   drugs                   2139 non-null   int64  \n",
      " 10  race                    2139 non-null   int64  \n",
      " 11  gender                  2139 non-null   int64  \n",
      " 12  karnofsky_score         2139 non-null   int64  \n",
      " 13  therapy_prior           2139 non-null   int64  \n",
      " 14  ZDV_last_30days         2139 non-null   int64  \n",
      " 15  prior_ART_length        2139 non-null   int64  \n",
      " 16  ART_history             2139 non-null   int64  \n",
      " 17  ART_history_stratified  2139 non-null   int64  \n",
      " 18  symptom                 2139 non-null   int64  \n",
      " 19  cd4_base                2139 non-null   int64  \n",
      " 20  cd4_20wks               2139 non-null   int64  \n",
      " 21  cd8_base                2139 non-null   int64  \n",
      " 22  cd8_20wks               2139 non-null   int64  \n",
      " 23  infected                2139 non-null   int64  \n",
      " 24  cd4_propdif             2139 non-null   float64\n",
      " 25  cd4_numerical_change    2139 non-null   int64  \n",
      "dtypes: float64(2), int64(24)\n",
      "memory usage: 434.6 KB\n"
     ]
    }
   ],
   "source": [
    "rf_df.info()"
   ]
  },
  {
   "cell_type": "markdown",
   "metadata": {},
   "source": [
    "### DefineFeatures and Target Columns, Train, Make Predictions"
   ]
  },
  {
   "cell_type": "code",
   "execution_count": 51,
   "metadata": {},
   "outputs": [],
   "source": [
    "# Define Features and Target Columns\n",
    "feature_columns = ['treatment', 'ZDV_only_treatment', 'off_treatment', 'time', 'age',\n",
    "                   'weight', 'hemophilia', 'homosexual_activity', 'drugs', 'race',\n",
    "                   'gender', 'karnofsky_score', 'therapy_prior', 'ZDV_last_30days',\n",
    "                   'prior_ART_length', 'ART_history', 'ART_history_stratified', 'symptom',\n",
    "                   'cd4_base', 'cd4_20wks']\n",
    "target = 'infected'\n",
    "\n",
    "# Split the data into features and target\n",
    "X = rf_df[feature_columns]\n",
    "y = rf_df[target]\n",
    "\n",
    "# Split the data into training and testing sets\n",
    "X_train, X_test, y_train, y_test = train_test_split(X, y, test_size=0.2, random_state=42)\n",
    "\n",
    "# Initialize RandomForest Classifier\n",
    "random_forest_classifier = RandomForestClassifier(random_state=42)\n",
    "\n",
    "# Train the Model\n",
    "random_forest_classifier.fit(X_train, y_train)\n",
    "\n",
    "# Make Predictions\n",
    "predictions = random_forest_classifier.predict(X_test)\n"
   ]
  },
  {
   "cell_type": "markdown",
   "metadata": {},
   "source": [
    "### Generate Model Statistics"
   ]
  },
  {
   "cell_type": "code",
   "execution_count": 52,
   "metadata": {},
   "outputs": [
    {
     "name": "stdout",
     "output_type": "stream",
     "text": [
      "Accuracy: 0.8925233644859814\n",
      "Precision: 0.8481012658227848\n",
      "Recall: 0.6633663366336634\n",
      "F1-score: 0.7444444444444445\n",
      "\n",
      "Classification Report:\n",
      "              precision    recall  f1-score   support\n",
      "\n",
      "           0       0.90      0.96      0.93       327\n",
      "           1       0.85      0.66      0.74       101\n",
      "\n",
      "    accuracy                           0.89       428\n",
      "   macro avg       0.88      0.81      0.84       428\n",
      "weighted avg       0.89      0.89      0.89       428\n",
      "\n",
      "\n",
      "Confusion Matrix:\n",
      "[[315  12]\n",
      " [ 34  67]]\n"
     ]
    }
   ],
   "source": [
    "# Calculate Accuracy\n",
    "accuracy = accuracy_score(y_test, predictions)\n",
    "print(\"Accuracy:\", accuracy)\n",
    "\n",
    "# Calculate Precision\n",
    "precision = precision_score(y_test, predictions)\n",
    "print(\"Precision:\", precision)\n",
    "\n",
    "# Calculate Recall\n",
    "recall = recall_score(y_test, predictions)\n",
    "print(\"Recall:\", recall)\n",
    "\n",
    "# Calculate F1-score\n",
    "f1 = f1_score(y_test, predictions)\n",
    "print(\"F1-score:\", f1)\n",
    "\n",
    "# Generate Classification Report\n",
    "print(\"\\nClassification Report:\")\n",
    "print(classification_report(y_test, predictions))\n",
    "\n",
    "# Generate Confusion Matrix\n",
    "print(\"\\nConfusion Matrix:\")\n",
    "print(confusion_matrix(y_test, predictions))"
   ]
  },
  {
   "cell_type": "markdown",
   "metadata": {},
   "source": [
    "### Prediction Error Plot"
   ]
  },
  {
   "cell_type": "code",
   "execution_count": 53,
   "metadata": {},
   "outputs": [
    {
     "data": {
      "image/png": "[encoded data removed]",
      "text/plain": [
       "<Figure size 1000x600 with 1 Axes>"
      ]
     },
     "metadata": {},
     "output_type": "display_data"
    }
   ],
   "source": [
    "# Calculate prediction probabilities\n",
    "probabilities = random_forest_classifier.predict_proba(X_test)\n",
    "predicted_probabilities = probabilities[:, 1]  # Probability of class 1 (positive class)\n",
    "\n",
    "# Calculate prediction errors\n",
    "prediction_errors = np.abs(y_test - predicted_probabilities)\n",
    "\n",
    "# Plot prediction errors\n",
    "plt.figure(figsize=(10, 6))\n",
    "plt.scatter(range(len(y_test)), prediction_errors, color='blue', alpha=0.5)\n",
    "plt.title('Prediction Error Plot')\n",
    "plt.xlabel('Instance Index')\n",
    "plt.ylabel('Prediction Error')\n",
    "plt.show()"
   ]
  },
  {
   "cell_type": "markdown",
   "metadata": {},
   "source": [
    "### Extract and Visualise Feature Importance in the Model"
   ]
  },
  {
   "cell_type": "code",
   "execution_count": 54,
   "metadata": {},
   "outputs": [
    {
     "data": {
      "image/png": "[encoded data removed]",
      "text/plain": [
       "<Figure size 1000x1000 with 1 Axes>"
      ]
     },
     "metadata": {},
     "output_type": "display_data"
    }
   ],
   "source": [
    "# Extract feature importances\n",
    "feature_importances = random_forest_classifier.feature_importances_\n",
    "# Create a DataFrame to store feature importances\n",
    "importance_df = pd.DataFrame({\"Feature\": feature_columns, \"Importance\": feature_importances})\n",
    "\n",
    "# Sort the DataFrame by importance\n",
    "importance_df = importance_df.sort_values(by=\"Importance\", ascending=False)\n",
    "\n",
    "# Plot feature importances\n",
    "plt.figure(figsize=(10, 10))\n",
    "plt.barh(importance_df[\"Feature\"], importance_df[\"Importance\"])\n",
    "plt.xlabel(\"Importance\")\n",
    "plt.ylabel(\"Feature\")\n",
    "plt.title(\"Feature Importances\")\n",
    "plt.show()"
   ]
  },
  {
   "cell_type": "markdown",
   "metadata": {},
   "source": [
    "## Comparission the metrics for all the models"
   ]
  },
  {
   "cell_type": "code",
   "execution_count": 55,
   "metadata": {},
   "outputs": [],
   "source": [
    "import matplotlib.pyplot as plt\n",
    "\n",
    "# Define metrics for all models\n",
    "acc_test = [0.85, 0.82, 0.85, acc_test_best_model_4, 0.89]\n",
    "precision = [0.67, 0.74, 0.67, p_best_model_4, 0.85]\n",
    "recall = [0.76, 0.41, 0.77, r_best_model_4, 0.66]\n",
    "title = [\"Logistic Regression\", \"KNN\", \"SVM\", \"DNN\", \"Random Forest\"]\n",
    "colour = [\"blue\", \"orange\", \"green\", \"red\", \"black\"]"
   ]
  },
  {
   "cell_type": "code",
   "execution_count": 56,
   "metadata": {},
   "outputs": [
    {
     "data": {
      "image/png": "[encoded data removed]",
      "text/plain": [
       "<Figure size 1000x600 with 1 Axes>"
      ]
     },
     "metadata": {},
     "output_type": "display_data"
    }
   ],
   "source": [
    "# Plotting accuracy for train and test data\n",
    "plt.figure(figsize=(10, 6))\n",
    "plt.bar(title, acc_test, color=colour, label=\"Test\")\n",
    "plt.grid()\n",
    "plt.title(\"Accuracy_test Comparison for All Models\")\n",
    "plt.xlabel(\"Algorithm Model\")\n",
    "plt.ylabel(\"Accuracy_test\")\n",
    "plt.xticks(rotation=45)\n",
    "plt.show()"
   ]
  },
  {
   "cell_type": "code",
   "execution_count": 57,
   "metadata": {},
   "outputs": [
    {
     "data": {
      "image/png": "[encoded data removed]",
      "text/plain": [
       "<Figure size 1000x600 with 1 Axes>"
      ]
     },
     "metadata": {},
     "output_type": "display_data"
    }
   ],
   "source": [
    "# Plotting precision for all models\n",
    "plt.figure(figsize=(10, 6))\n",
    "plt.bar(title, precision, color=colour)\n",
    "plt.grid()\n",
    "plt.title(\"Precision Comparison for All Models\")\n",
    "plt.xlabel(\"Algorithm Model\")\n",
    "plt.ylabel(\"Precision (for infected class)\")\n",
    "plt.xticks(rotation=45)\n",
    "plt.show()"
   ]
  },
  {
   "cell_type": "code",
   "execution_count": 58,
   "metadata": {},
   "outputs": [
    {
     "data": {
      "image/png": "[encoded data removed]",
      "text/plain": [
       "<Figure size 1000x600 with 1 Axes>"
      ]
     },
     "metadata": {},
     "output_type": "display_data"
    }
   ],
   "source": [
    "# Plotting recall for all models\n",
    "plt.figure(figsize=(10, 6))\n",
    "plt.bar(title, recall, color=colour)\n",
    "plt.grid()\n",
    "plt.title(\"Recall Comparison for All Models\")\n",
    "plt.xlabel(\"Algorithm Model\")\n",
    "plt.ylabel(\"Recall(for infected class)\")\n",
    "plt.xticks(rotation=45)\n",
    "plt.show()"
   ]
  },
  {
   "cell_type": "markdown",
   "metadata": {},
   "source": [
    "Overall Conclusion:\n",
    "1. Logistic Regression provides %85 accuracy and recall %76. KNN provides %82 accuracy and recall for the infected class(class 1) %41.\n",
    "2. Random Forest provides high accuracy %89 and precision %85, but a low recall %66.\n",
    "3. Support Vector Machine (SVM) with accuracy %85 and recall %77 remains in second place.\n",
    "4. Neural Network model in its 4th attempts shows promising performance with high accuracy_train (%90), high accuracy_test (%89) and precision(%88), recall for the infected class(class 1) %78. \n",
    "   \n",
    "According to the concept of our medical dataset and the importance of predicting individuals infected with AIDS in order to getting timely treatment, accuracy and recall for the infected class(class 1)  are considered as the most important metrics for choosing the best model in this project. So Neural Network is the best model with an accuracy of % 89 and a recall of %78.\n"
   ]
  },
  {
   "cell_type": "code",
   "execution_count": null,
   "metadata": {},
   "outputs": [],
   "source": []
  }
 ],
 "metadata": {
  "kernelspec": {
   "display_name": "Python 3 (ipykernel)",
   "language": "python",
   "name": "python3"
  },
  "language_info": {
   "codemirror_mode": {
    "name": "ipython",
    "version": 3
   },
   "file_extension": ".py",
   "mimetype": "text/x-python",
   "name": "python",
   "nbconvert_exporter": "python",
   "pygments_lexer": "ipython3",
   "version": "3.11.5"
  }
 },
 "nbformat": 4,
 "nbformat_minor": 4
}
